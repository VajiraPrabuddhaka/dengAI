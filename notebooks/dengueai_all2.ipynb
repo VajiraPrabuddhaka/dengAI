{
 "cells": [
  {
   "cell_type": "markdown",
   "metadata": {},
   "source": [
    "# Three model types, several dataset versions, total_cases IS A FEATURE"
   ]
  },
  {
   "cell_type": "code",
   "execution_count": 1,
   "metadata": {},
   "outputs": [
    {
     "name": "stderr",
     "output_type": "stream",
     "text": [
      "Using TensorFlow backend.\n"
     ]
    }
   ],
   "source": [
    "import scipy as sp\n",
    "import numpy as np\n",
    "import matplotlib as mpl\n",
    "import matplotlib.pyplot as plt\n",
    "import seaborn as sns\n",
    "import pandas as pd\n",
    "import statsmodels as stats\n",
    "from sklearn.model_selection import train_test_split\n",
    "from sklearn import linear_model\n",
    "from sklearn.metrics import mean_squared_error, mean_absolute_error, r2_score\n",
    "from sklearn.preprocessing import OneHotEncoder, PolynomialFeatures, MinMaxScaler\n",
    "from sklearn.ensemble import RandomForestRegressor, AdaBoostRegressor\n",
    "import theano \n",
    "import tensorflow as tf\n",
    "import keras\n",
    "from keras.models import Sequential\n",
    "from keras import initializers\n",
    "from keras.layers import Dense, Activation, Dropout\n",
    "from keras.layers import LSTM, GRU\n",
    "from keras import regularizers\n",
    "%matplotlib inline\n",
    "import myutil_all as myutil\n",
    "import warnings\n",
    "warnings.filterwarnings('ignore')"
   ]
  },
  {
   "cell_type": "code",
   "execution_count": 2,
   "metadata": {
    "collapsed": true
   },
   "outputs": [],
   "source": [
    "import importlib\n",
    "_ = importlib.reload(myutil)"
   ]
  },
  {
   "cell_type": "markdown",
   "metadata": {},
   "source": [
    "## Get data and do preliminary preprocessing"
   ]
  },
  {
   "cell_type": "code",
   "execution_count": 3,
   "metadata": {
    "collapsed": true
   },
   "outputs": [],
   "source": [
    "dfx_train = myutil.get_indexed_dataset('data/dengue_features_train.csv')\n",
    "dfy_train = myutil.get_indexed_dataset('data/dengue_labels_train.csv')\n",
    "dfx_test = myutil.get_indexed_dataset('data/dengue_features_test.csv')\n",
    "# combine training features with training labels for data exploration later on\n",
    "dftrain = myutil.set_index(pd.merge(dfx_train, dfy_train))\n",
    "# Will stack the train and test datasets to treat all NaN values together\n",
    "# Need to add bogus total_cases column to test dataset so the files can be easily concatenated\n",
    "# update total_cases = -1 to easily identify the records for later split data to original partitions\n",
    "dfx_test['total_cases'] = -1\n",
    "dfall = myutil.set_index(pd.concat((dftrain, dfx_test), axis=0))\n",
    "dfall.sort_index(axis=0, inplace=True)\n",
    "# drop unecessary columns and save column names\n",
    "delcols = ['year','week_start_date','reanalysis_sat_precip_amt_mm','reanalysis_specific_humidity_g_per_kg']\n",
    "dfall.drop(delcols, axis=1, inplace=True)\n",
    "cols = dfall.columns\n",
    "# remove NaNs\n",
    "dfall = myutil.set_nan_to_week_mean(dfall.copy())"
   ]
  },
  {
   "cell_type": "markdown",
   "metadata": {},
   "source": [
    "## One hot encode city and weekofyear"
   ]
  },
  {
   "cell_type": "code",
   "execution_count": 4,
   "metadata": {},
   "outputs": [
    {
     "data": {
      "text/plain": [
       "(676, 72)"
      ]
     },
     "execution_count": 4,
     "metadata": {},
     "output_type": "execute_result"
    }
   ],
   "source": [
    "# split dataset and hot encode weekof year\n",
    "dfall_copy = dfall.copy()\n",
    "dfall_iq = dfall_copy[dfall_copy['city'] == 'iq']\n",
    "dfall_sj = dfall_copy[dfall_copy['city'] == 'sj']\n",
    "enc = OneHotEncoder(categorical_features=np.array([0]))\n",
    "dset = dict()\n",
    "dset['iq'] = enc.fit_transform(dfall_iq.iloc[:,1:].values).toarray()\n",
    "dset['sj'] = enc.fit_transform(dfall_sj.iloc[:,1:].values).toarray()\n",
    "dset['iq'].shape"
   ]
  },
  {
   "cell_type": "markdown",
   "metadata": {},
   "source": [
    "## Create several versions of the datasets (ADD total cases as feature)"
   ]
  },
  {
   "cell_type": "code",
   "execution_count": 5,
   "metadata": {
    "collapsed": true,
    "scrolled": false
   },
   "outputs": [],
   "source": [
    "# for each city, create version of datasets with 1, 2, 3, and 4 shifts\n",
    "for city in dset.keys():\n",
    "    datashift = dict()\n",
    "    for shift_no in range(1,5):\n",
    "        datashift[shift_no] = myutil.shift(np.hstack((dset[city],dset[city][:,-1:])), shift_no)\n",
    "        #print(city, shift_no)\n",
    "        #print(datashift[shift_no].shape)\n",
    "    dset[city] = datashift\n",
    "\n",
    "# for each city, each shift, create version of the dataset different scaling\n",
    "for city in dset.keys():\n",
    "    for shift_no in dset[city].keys():\n",
    "        vers = dict()\n",
    "        # save original as 'raw'\n",
    "        vers['raw'] = np.hstack((dset[city][shift_no][:,:-1], dset[city][shift_no][:,-1:]))\n",
    "        # save scaled with minmax in range [0,1] as 'minmax1'\n",
    "        scaler = MinMaxScaler(feature_range=(0,1))\n",
    "        vers['minmax1'] = np.hstack((scaler.fit_transform(dset[city][shift_no][:,:-1]), dset[city][shift_no][:,-1:]))\n",
    "        # save scaled with minmax in range [0,1] as 'minmax1'\n",
    "        # isolate features, so scaling will only affect features\n",
    "        scaler = MinMaxScaler(feature_range=(-1,1))\n",
    "        vers['minmax2'] = np.hstack((scaler.fit_transform(dset[city][shift_no][:,:-1]), dset[city][shift_no][:,-1:]))\n",
    "        dset[city][shift_no] = vers\n",
    "        \n",
    "# for each city, each shift, each version, create X_train, y_train, and X_test partitions\n",
    "dataset = dict()\n",
    "for city in dset.keys():\n",
    "    for shift_no in dset[city].keys():\n",
    "        for vers in dset[city][shift_no].keys():\n",
    "            npdata = dset[city][shift_no][vers]\n",
    "            partition = dict()\n",
    "            partition['X_train'] = npdata[npdata[:,-1]>0][:,:-1]\n",
    "            partition['y_train'] = npdata[npdata[:,-1]>0][:,-1:]\n",
    "            partition['X_test']  = npdata[npdata[:,-1]<0][:,:-1]\n",
    "            id = city + '_' + str(shift_no) + '_' + vers\n",
    "            dataset[id] = partition"
   ]
  },
  {
   "cell_type": "code",
   "execution_count": 6,
   "metadata": {
    "collapsed": true
   },
   "outputs": [],
   "source": [
    "#for key in dataset.keys():\n",
    "#    print(key[:2])"
   ]
  },
  {
   "cell_type": "markdown",
   "metadata": {},
   "source": [
    "## Linear regression"
   ]
  },
  {
   "cell_type": "code",
   "execution_count": 7,
   "metadata": {
    "scrolled": false
   },
   "outputs": [
    {
     "name": "stdout",
     "output_type": "stream",
     "text": [
      "Best result for iq\n",
      "\tBest dataset: iq_1_raw\n",
      "\tBest model  : Lasso\n",
      "\t\tMAE train : 4.23\n",
      "\t\tMAE valid : 5.20\n",
      "\t\tVariance  : 0.50\n",
      "Best result for sj\n",
      "\tBest dataset: sj_1_minmax1\n",
      "\tBest model  : Lasso\n",
      "\t\tMAE train : 8.26\n",
      "\t\tMAE valid : 8.30\n",
      "\t\tVariance  : 0.91\n"
     ]
    }
   ],
   "source": [
    "best_score = dict()\n",
    "best_score['iq'] = 0 \n",
    "best_score['sj'] = 0 \n",
    "best_result = dict()\n",
    "for id in dataset.keys():\n",
    "    \n",
    "    myscore = dict()\n",
    "    X_train_, X_valid_, y_train_, y_valid_ = train_test_split(dataset[id]['X_train'], dataset[id]['y_train'],\\\n",
    "                                                              test_size=.33, random_state=42)\n",
    "    # Create linear regression object\n",
    "    for i in range(0, 6):\n",
    "        if i==0: \n",
    "            key = 'LinearRegression'\n",
    "            regr = linear_model.LinearRegression()\n",
    "        if i==1:\n",
    "            key = 'Ridge'\n",
    "            regr = linear_model.Ridge(alpha = .5)\n",
    "        if i==2:\n",
    "            key = 'RidgeCV'  \n",
    "            regr = linear_model.RidgeCV(alphas=[0.1, 1.0, 10.0])\n",
    "        if i==3:\n",
    "            key = 'Lasso'\n",
    "            regr = linear_model.Lasso(alpha = .1)\n",
    "        if i==4:\n",
    "            key = 'LassoLars'\n",
    "            regr = linear_model.LassoLars(alpha = .1)\n",
    "        if i==5:\n",
    "            key = 'BayesianRidge'  \n",
    "            regr = linear_model.BayesianRidge()\n",
    "\n",
    "        # Train the model using the training sets\n",
    "        regr.fit(X_train_, y_train_.ravel())\n",
    "\n",
    "        y_hat = regr.predict(X_train_)\n",
    "        y_hat[ y_hat < 0] = 0\n",
    "        y_hat = np.around(y_hat).astype('int')\n",
    "        y_pred = regr.predict(X_valid_)\n",
    "        y_pred[ y_pred < 0] = 0\n",
    "        y_pred = np.around(y_pred).astype('int')\n",
    "\n",
    "        # scores are training mae, validation mae, variance\n",
    "        mae_train = mean_absolute_error(y_train_, y_hat)\n",
    "        mae_valid = mean_absolute_error(y_valid_, y_pred)\n",
    "        r2        = r2_score(y_valid_, y_pred)\n",
    "\n",
    "        if abs(r2) < 1:\n",
    "            this_score = abs(r2/mae_valid)\n",
    "        else: \n",
    "            this_score = 0\n",
    "            \n",
    "        if id[:2] == 'iq':\n",
    "            if this_score > best_score['iq']:\n",
    "                best_score['iq'] = this_score\n",
    "                best_result['iq'] = (regr, id, key, mae_train, mae_valid, r2)\n",
    "        else:\n",
    "            if this_score > best_score['sj']:\n",
    "                best_score['sj'] = this_score\n",
    "                best_result['sj'] = (regr, id, key, mae_train, mae_valid, r2)\n",
    "\n",
    "for city in best_result.keys():\n",
    "    print('Best result for {}'.format(city))\n",
    "    print('\\tBest dataset: {}'.format(best_result[city][1]))\n",
    "    print('\\tBest model  : {}'.format(best_result[city][2]))\n",
    "    print('\\t\\tMAE train : %.2f' % best_result[city][3])\n",
    "    print('\\t\\tMAE valid : %.2f' % best_result[city][4])\n",
    "    print('\\t\\tVariance  : %.2f' % best_result[city][5])\n"
   ]
  },
  {
   "cell_type": "markdown",
   "metadata": {},
   "source": [
    "## Decisition tree regressor"
   ]
  },
  {
   "cell_type": "code",
   "execution_count": 8,
   "metadata": {
    "scrolled": false
   },
   "outputs": [
    {
     "name": "stdout",
     "output_type": "stream",
     "text": [
      "iq_1_raw\n",
      "iq_1_minmax1\n",
      "iq_1_minmax2\n",
      "iq_2_raw\n",
      "iq_2_minmax1\n",
      "iq_2_minmax2\n",
      "iq_3_raw\n",
      "iq_3_minmax1\n",
      "iq_3_minmax2\n",
      "iq_4_raw\n",
      "iq_4_minmax1\n",
      "iq_4_minmax2\n",
      "sj_1_raw\n",
      "sj_1_minmax1\n",
      "sj_1_minmax2\n",
      "sj_2_raw\n",
      "sj_2_minmax1\n",
      "sj_2_minmax2\n",
      "sj_3_raw\n",
      "sj_3_minmax1\n",
      "sj_3_minmax2\n",
      "sj_4_raw\n",
      "sj_4_minmax1\n",
      "sj_4_minmax2\n",
      "Best result for iq\n",
      "\tBest dataset: iq_4_minmax2\n",
      "\t\tMAE train : 1.99\n",
      "\t\tMAE valid : 4.73\n",
      "\t\tVariance  : 0.45\n",
      "Feature Importances:\n",
      "[  2.68154500e-05   6.04574913e-05   6.44417821e-05   5.71446414e-06\n",
      "   2.77683395e-05   3.43502228e-05   1.61743279e-05   1.37538330e-05\n",
      "   1.72134641e-05   2.91051617e-06   7.19577397e-06   1.61529148e-05\n",
      "   5.22023363e-07   0.00000000e+00   2.04828130e-05   4.86823196e-07\n",
      "   7.31004924e-06   3.27107464e-06   1.08088836e-05   1.04391335e-06\n",
      "   1.16283781e-05   5.41929187e-08   3.54393511e-08   6.06620543e-08\n",
      "   3.36888051e-06   1.13070378e-06   1.99564848e-07   5.30154491e-07\n",
      "   1.03900506e-06   7.41240010e-06   0.00000000e+00   4.04450796e-05\n",
      "   1.72728317e-05   9.87876784e-05   7.10571470e-05   8.26012984e-07\n",
      "   1.93508891e-05   6.07048532e-06   1.44405341e-05   9.88878187e-05\n",
      "   6.04805360e-05   1.72650318e-04   1.45920943e-05   1.20718677e-05\n",
      "   1.82603592e-03   4.76981873e-05   3.95565986e-05   3.54556706e-04\n",
      "   4.46287528e-04   1.52862646e-03   5.44841883e-05   1.46055093e-04\n",
      "   0.00000000e+00   8.44996249e-03   4.76107284e-03   4.81736273e-03\n",
      "   7.54953122e-03   3.60745373e-03   6.76735939e-03   2.45616251e-03\n",
      "   1.40819820e-02   1.80213224e-03   4.25379848e-03   3.91454739e-03\n",
      "   4.88755063e-03   1.91145770e-03   1.62529025e-02   4.36367865e-03\n",
      "   3.50529597e-03   4.67880714e-03   1.21400263e-02   3.09837384e-02\n",
      "   4.28978830e-04   4.67000633e-05   3.97778647e-05   7.34820888e-05\n",
      "   2.80585104e-05   1.37173778e-05   2.16229189e-05   1.20522435e-05\n",
      "   1.33048524e-06   1.19967786e-05   7.28742761e-06   2.25109652e-06\n",
      "   9.91540733e-07   2.52163276e-07   1.16311603e-06   1.38561882e-05\n",
      "   9.50612321e-08   1.31867909e-05   0.00000000e+00   1.90596646e-05\n",
      "   1.03847868e-06   4.33416187e-05   0.00000000e+00   5.08530278e-08\n",
      "   3.24835786e-07   4.77716184e-08   6.27102293e-06   2.53344350e-07\n",
      "   5.43491340e-06   1.42460392e-06   4.53025480e-07   0.00000000e+00\n",
      "   4.19530269e-05   2.72100622e-05   6.24274044e-05   3.80273790e-06\n",
      "   2.45823884e-07   2.30372742e-05   7.11717913e-06   4.32545031e-05\n",
      "   6.85486180e-05   5.33452862e-05   2.77174441e-04   0.00000000e+00\n",
      "   8.39802397e-06   9.34899426e-04   4.85018725e-05   2.15014395e-05\n",
      "   3.42543036e-04   6.19051206e-04   6.88842575e-04   4.49209746e-05\n",
      "   1.44148874e-06   5.26640950e-03   3.80923761e-03   3.18631427e-03\n",
      "   3.44458991e-03   5.42288515e-03   3.13508404e-03   3.36964370e-03\n",
      "   5.98844655e-03   5.19225265e-03   5.32456129e-03   3.30544082e-03\n",
      "   6.02932372e-03   7.32527258e-03   3.85310776e-03   5.05467272e-03\n",
      "   5.99744716e-03   2.86961892e-03   5.00364133e-03   3.14118285e-02\n",
      "   6.27196901e-05   2.45906699e-04   5.59349380e-05   2.56205165e-05\n",
      "   4.50903071e-05   2.89859212e-05   2.15783721e-05   2.10694720e-05\n",
      "   6.55911426e-06   3.67485922e-06   2.36213512e-05   5.55553130e-06\n",
      "   1.63994919e-05   3.95249942e-07   2.44448096e-06   3.36409311e-08\n",
      "   8.26303999e-05   9.10513579e-07   2.33700585e-06   4.38251287e-07\n",
      "   1.13659191e-06   2.45199426e-06   4.18671594e-05   0.00000000e+00\n",
      "   9.81591061e-06   8.51678190e-07   8.75128772e-06   8.59384453e-06\n",
      "   0.00000000e+00   5.46374286e-07   9.62990415e-07   3.27587136e-06\n",
      "   9.62704384e-08   5.10549960e-05   5.15995585e-05   2.18824223e-05\n",
      "   2.26829757e-05   2.96557178e-06   2.16228622e-05   1.87902835e-05\n",
      "   4.43241273e-05   6.18569942e-05   7.30366733e-05   2.98099473e-04\n",
      "   0.00000000e+00   3.81533242e-05   1.59004974e-03   4.97153735e-05\n",
      "   1.83495561e-05   5.12919827e-04   6.22203863e-04   1.31038149e-03\n",
      "   1.08108303e-05   5.29712425e-03   8.50385760e-03   2.60703413e-03\n",
      "   3.39614548e-03   5.05913141e-03   2.62664022e-03   2.27976579e-03\n",
      "   3.37968121e-03   3.18306834e-03   6.71157557e-03   7.24029482e-03\n",
      "   2.69723112e-03   1.91955203e-03   3.81100141e-03   7.94378709e-03\n",
      "   3.27408448e-03   2.35689797e-03   6.15153025e-03   9.94688816e-02\n",
      "   7.84207028e-04   4.34313510e-05   1.76604090e-04   3.32687948e-05\n",
      "   2.13727085e-05   2.20556291e-05   1.68662537e-05   2.52922758e-05\n",
      "   2.63442745e-05   5.05998084e-05   6.48058557e-07   3.14403744e-06\n",
      "   8.74475397e-06   6.58020867e-06   5.17960748e-07   3.00234966e-08\n",
      "   0.00000000e+00   3.67841475e-05   5.28092950e-07   4.80735751e-06\n",
      "   2.06575841e-07   6.64612455e-07   9.85830974e-07   3.37521597e-05\n",
      "   2.02840048e-06   9.77411502e-07   0.00000000e+00   3.27238299e-06\n",
      "   1.33438631e-06   0.00000000e+00   3.50487051e-07   3.55849688e-06\n",
      "   3.80240265e-06   3.97998373e-07   2.72731689e-05   2.01046701e-05\n",
      "   8.97122121e-05   5.40933710e-05   4.99084276e-06   9.56781811e-06\n",
      "   1.94779591e-05   3.81930953e-05   9.23021219e-05   7.82842784e-05\n",
      "   3.96488945e-04   1.55901884e-06   1.89228650e-05   9.13867183e-04\n",
      "   6.34261456e-05   2.42448925e-05   2.40717981e-04   1.45187796e-04\n",
      "   5.54461577e-04   3.91651903e-03   3.11510717e-03   2.24143212e-03\n",
      "   2.27538172e-03   3.36244536e-03   1.82147614e-03   1.98509191e-03\n",
      "   3.58366041e-03   4.61127491e-03   5.29468354e-03   4.77176548e-03\n",
      "   5.16888147e-03   6.62775240e-03   2.95378862e-03   3.48187806e-03\n",
      "   6.99591957e-03   2.19995780e-03   6.12422622e-03   4.76184799e-01]\n",
      "Best result for sj\n",
      "\tBest dataset: sj_1_raw\n",
      "\t\tMAE train : 5.64\n",
      "\t\tMAE valid : 8.57\n",
      "\t\tVariance  : 0.90\n",
      "Feature Importances:\n",
      "[  5.09852506e-05   8.99686262e-06   2.21528779e-06   1.02829072e-06\n",
      "   4.75314520e-06   3.53630124e-06   5.26379005e-05   2.52287129e-06\n",
      "   1.23011567e-04   7.33105668e-07   7.49586136e-07   8.09965814e-07\n",
      "   1.98772878e-06   1.79366241e-06   2.02029261e-09   1.48069409e-07\n",
      "   2.11768472e-07   1.33643214e-07   1.42172471e-06   4.01258417e-07\n",
      "   9.97086426e-06   8.30979050e-06   6.02555613e-07   1.96646683e-06\n",
      "   5.10078832e-05   3.18227447e-06   1.14010199e-05   3.39471976e-05\n",
      "   3.04889488e-04   1.72311143e-05   6.15052124e-06   4.26718799e-05\n",
      "   2.02817348e-04   1.95819759e-04   2.09664017e-04   2.47997361e-04\n",
      "   1.01027841e-04   5.48862182e-05   1.24527473e-03   1.60247863e-04\n",
      "   9.08020945e-06   5.62053320e-05   6.40689527e-05   6.82564280e-05\n",
      "   6.11410604e-05   4.02055643e-05   1.76957756e-04   1.52271003e-04\n",
      "   1.82273223e-06   6.03054008e-06   5.22030717e-03   1.74601511e-03\n",
      "   6.49049562e-04   3.69518953e-03   1.93540142e-03   3.15148593e-03\n",
      "   4.01279182e-03   3.76164643e-03   1.85614079e-03   2.63325491e-03\n",
      "   4.89788308e-03   2.53262000e-03   3.13011808e-03   2.99516856e-03\n",
      "   2.24216885e-03   6.68103723e-03   3.03375924e-03   6.37628666e-03\n",
      "   1.40775923e-03   2.09867509e-03   2.53729456e-03   9.29602761e-01]\n"
     ]
    }
   ],
   "source": [
    "best_score = dict()\n",
    "best_score['iq'] = 0 \n",
    "best_score['sj'] = 0 \n",
    "best_result = dict()\n",
    "for id in dataset.keys():\n",
    "    \n",
    "    print(id)\n",
    "    \n",
    "    myscore = dict()\n",
    "    X_train_, X_valid_, y_train_, y_valid_ = train_test_split(dataset[id]['X_train'], dataset[id]['y_train'],\\\n",
    "                                                              test_size=.33, random_state=42)\n",
    "        \n",
    "    #RandomForestRegressor(n_estimators=10, criterion=’mse’, max_depth=None, min_samples_split=2, \n",
    "    #                      min_samples_leaf=1, min_weight_fraction_leaf=0.0, max_features=’auto’, \n",
    "    #                      max_leaf_nodes=None, min_impurity_decrease=0.0, min_impurity_split=None, \n",
    "    #                      bootstrap=True, oob_score=False, n_jobs=1, random_state=None, verbose=0, \n",
    "    #                      warm_start=False)\n",
    "    \n",
    "    #regr = RandomForestRegressor(n_estimators=30, max_depth=max_depth, criterion='mse', random_state=0,\\\n",
    "    #                            min_samples_leaf=1)\n",
    "    \n",
    "    #AdaBoostRegressor(base_estimator=None, n_estimators=150, learning_rate=1.0, loss=’linear’, random_state=None)\n",
    "    \n",
    "    regr = AdaBoostRegressor(RandomForestRegressor(max_depth=6), n_estimators=200, learning_rate=0.01, \\\n",
    "                             loss='exponential', random_state=42)\n",
    "    \n",
    "    regr.fit(X_train_, y_train_.ravel())\n",
    "\n",
    "    y_hat = regr.predict(X_train_)\n",
    "    y_hat[ y_hat < 0] = 0\n",
    "    y_hat = np.around(y_hat).astype('int')\n",
    "    y_pred = regr.predict(X_valid_)\n",
    "    y_pred[ y_pred < 0] = 0\n",
    "    y_pred = np.around(y_pred).astype('int')\n",
    "\n",
    "    # scores are training mae, validation mae, variance\n",
    "    mae_train = mean_absolute_error(y_train_, y_hat)\n",
    "    mae_valid = mean_absolute_error(y_valid_, y_pred)\n",
    "    r2        = r2_score(y_valid_, y_pred)\n",
    "\n",
    "    this_score = abs(r2/mae_valid)\n",
    "    if id[:2] == 'iq':\n",
    "        if this_score > best_score['iq']:\n",
    "            best_score['iq'] = this_score\n",
    "            best_result['iq'] = (regr, id, mae_train, mae_valid, r2)\n",
    "    else:\n",
    "        if this_score > best_score['sj']:\n",
    "            best_score['sj'] = this_score\n",
    "            best_result['sj'] = (regr, id, mae_train, mae_valid, r2)\n",
    "    \n",
    "    #plt.scatter(y_valid, y_pred)\n",
    "    \n",
    "for city in best_result.keys():\n",
    "    print('Best result for {}'.format(city))\n",
    "    print('\\tBest dataset: {}'.format(best_result[city][1]))\n",
    "    #print('\\tBest model  : {}'.format(best_result[city][2]))\n",
    "    print('\\t\\tMAE train : %.2f' % best_result[city][2])\n",
    "    print('\\t\\tMAE valid : %.2f' % best_result[city][3])\n",
    "    print('\\t\\tVariance  : %.2f' % best_result[city][4])\n",
    "    print('Feature Importances:')\n",
    "    print(best_result[city][0].feature_importances_)\n",
    "    "
   ]
  },
  {
   "cell_type": "code",
   "execution_count": 9,
   "metadata": {},
   "outputs": [
    {
     "name": "stdout",
     "output_type": "stream",
     "text": [
      "iq_1_raw\n",
      "iq_1_minmax1\n",
      "iq_1_minmax2\n",
      "iq_2_raw\n",
      "iq_2_minmax1\n",
      "iq_2_minmax2\n",
      "iq_3_raw\n",
      "iq_3_minmax1\n",
      "iq_3_minmax2\n",
      "iq_4_raw\n",
      "iq_4_minmax1\n",
      "iq_4_minmax2\n",
      "sj_1_raw\n",
      "sj_1_minmax1\n",
      "sj_1_minmax2\n",
      "sj_2_raw\n",
      "sj_2_minmax1\n",
      "sj_2_minmax2\n",
      "sj_3_raw\n",
      "sj_3_minmax1\n",
      "sj_3_minmax2\n",
      "sj_4_raw\n",
      "sj_4_minmax1\n",
      "sj_4_minmax2\n",
      "Best result for iq\n",
      "\tFinal loss train: 5.873498157926009\n",
      "\tFinal loss valid: 7.363706921679633\n",
      "\tVariance score: -0.13\n"
     ]
    },
    {
     "data": {
      "image/png": "[encoded data removed]",
      "text/plain": [
       "<matplotlib.figure.Figure at 0x1c72b622e8>"
      ]
     },
     "metadata": {},
     "output_type": "display_data"
    },
    {
     "name": "stdout",
     "output_type": "stream",
     "text": [
      "Best result for sj\n",
      "\tFinal loss train: 25.516432777836464\n",
      "\tFinal loss valid: 27.202298066515098\n",
      "\tVariance score: -0.19\n"
     ]
    },
    {
     "data": {
      "image/png": "[encoded data removed]",
      "text/plain": [
       "<matplotlib.figure.Figure at 0x1c73b41c88>"
      ]
     },
     "metadata": {},
     "output_type": "display_data"
    }
   ],
   "source": [
    "best_score = dict()\n",
    "best_score['iq'] = 0 \n",
    "best_score['sj'] = 0 \n",
    "best_result = dict()\n",
    "for id in dataset.keys():\n",
    "    \n",
    "    print(id)\n",
    "    \n",
    "    myscore = dict()\n",
    "    X_train_, X_valid_, y_train_, y_valid_ = train_test_split(dataset[id]['X_train'], dataset[id]['y_train'],\\\n",
    "                                                              test_size=.33, random_state=42)\n",
    "    \n",
    "    X_train_ = X_train_.reshape(X_train_.shape[0], int(id[3:4]), int(X_train_.shape[1]/int(id[3:4])))\n",
    "    X_valid_ = X_valid_.reshape(X_valid_.shape[0], int(id[3:4]), int(X_valid_.shape[1]/int(id[3:4])))\n",
    "    \n",
    "    # build graph\n",
    "    regr = Sequential()\n",
    "    \n",
    "    #keras.layers.LSTM(units, activation='tanh', recurrent_activation='hard_sigmoid', \n",
    "    #              use_bias=True, kernel_initializer='glorot_uniform', \n",
    "    #              recurrent_initializer='orthogonal', bias_initializer='zeros', \n",
    "    #              unit_forget_bias=True, kernel_regularizer=None, recurrent_regularizer=None, \n",
    "    #              bias_regularizer=None, activity_regularizer=None, kernel_constraint=None, \n",
    "    #              recurrent_constraint=None, bias_constraint=None, dropout=0.0, \n",
    "    #              recurrent_dropout=0.0, implementation=1, return_sequences=False, \n",
    "    #              return_state=False, go_backwards=False, stateful=False, unroll=False)\n",
    "\n",
    "    regr.add(GRU(X_train_.shape[2], input_shape=(X_train_.shape[1], X_train_.shape[2]),\\\n",
    "                  implementation=2, return_sequences=True))\n",
    "    regr.add(GRU(10, return_sequences=True))\n",
    "    regr.add(GRU(2))\n",
    "    regr.add(Dense(1, kernel_regularizer=regularizers.l2(0.01), activation='linear'))\n",
    "    regr.compile(loss='mae', optimizer='rmsprop')  # 'adam'\n",
    "    \n",
    "    # fit net\n",
    "    history = regr.fit(X_train_, y_train_, epochs=20, batch_size=2,\\\n",
    "                       validation_data=(X_valid_, y_valid_), verbose=0, shuffle=False)\n",
    "    \n",
    "    y_hat = regr.predict(X_train_)\n",
    "    y_hat[ y_hat < 0] = 0\n",
    "    y_hat = np.around(y_hat).astype('int')\n",
    "    y_pred = regr.predict(X_valid_)\n",
    "    y_pred[ y_pred < 0] = 0\n",
    "    y_pred = np.around(y_pred).astype('int')\n",
    "    \n",
    "    loss_train = history.history['loss'][-1]\n",
    "    loss_valid = history.history['val_loss'][-1]\n",
    "    r2 = r2_score(y_valid_, y_pred)\n",
    "\n",
    "    if loss_valid > loss_train:\n",
    "        #this_score = abs(r2/loss_valid)\n",
    "        this_score = loss_valid\n",
    "    else:\n",
    "        this_score = 0\n",
    "    \n",
    "    if id[:2] == 'iq':\n",
    "        if this_score > best_score['iq']:\n",
    "            best_score['iq'] = this_score\n",
    "            best_result['iq'] = (history.history, loss_train, loss_valid, r2)\n",
    "    else:\n",
    "        if this_score > best_score['sj']:\n",
    "            best_score['sj'] = this_score\n",
    "            best_result['sj'] = (history.history, loss_train, loss_valid, r2)\n",
    "        \n",
    "for city in best_result.keys():\n",
    "    print('Best result for {}'.format(city))\n",
    "    print('\\tFinal loss train: {}'.format(best_result[city][1]))\n",
    "    print('\\tFinal loss valid: {}'.format(best_result[city][2]))\n",
    "    print('\\tVariance score: %.2f' % best_result[city][3])\n",
    "    plt.plot(best_result[city][0]['loss'], label='train')\n",
    "    plt.plot(best_result[city][0]['val_loss'], label='test')\n",
    "    plt.legend()\n",
    "    plt.show()\n",
    "    "
   ]
  },
  {
   "cell_type": "code",
   "execution_count": null,
   "metadata": {
    "collapsed": true
   },
   "outputs": [],
   "source": []
  }
 ],
 "metadata": {
  "kernelspec": {
   "display_name": "Python 3",
   "language": "python",
   "name": "python3"
  },
  "language_info": {
   "codemirror_mode": {
    "name": "ipython",
    "version": 3
   },
   "file_extension": ".py",
   "mimetype": "text/x-python",
   "name": "python",
   "nbconvert_exporter": "python",
   "pygments_lexer": "ipython3",
   "version": "3.6.3"
  }
 },
 "nbformat": 4,
 "nbformat_minor": 2
}
