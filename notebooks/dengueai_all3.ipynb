{
 "cells": [
  {
   "cell_type": "markdown",
   "metadata": {},
   "source": [
    "# Three model types, several dataset versions, total_cases IS THE ONLY FEATURE"
   ]
  },
  {
   "cell_type": "code",
   "execution_count": 1,
   "metadata": {},
   "outputs": [
    {
     "name": "stderr",
     "output_type": "stream",
     "text": [
      "Using TensorFlow backend.\n"
     ]
    }
   ],
   "source": [
    "import scipy as sp\n",
    "import numpy as np\n",
    "import matplotlib as mpl\n",
    "import matplotlib.pyplot as plt\n",
    "import seaborn as sns\n",
    "import pandas as pd\n",
    "import statsmodels as stats\n",
    "from sklearn.model_selection import train_test_split\n",
    "from sklearn import linear_model\n",
    "from sklearn.metrics import mean_squared_error, mean_absolute_error, r2_score\n",
    "from sklearn.preprocessing import OneHotEncoder, PolynomialFeatures, MinMaxScaler\n",
    "from sklearn.ensemble import RandomForestRegressor, AdaBoostRegressor\n",
    "import theano \n",
    "import tensorflow as tf\n",
    "import keras\n",
    "from keras.models import Sequential\n",
    "from keras import initializers, regularizers\n",
    "from keras.layers import Dense, Activation, Dropout, LSTM, GRU, Embedding, Conv1D, GlobalAveragePooling1D, MaxPooling1D\n",
    "%matplotlib inline\n",
    "import myutil_all as myutil\n",
    "import warnings\n",
    "warnings.filterwarnings('ignore')"
   ]
  },
  {
   "cell_type": "code",
   "execution_count": 2,
   "metadata": {
    "collapsed": true
   },
   "outputs": [],
   "source": [
    "import importlib\n",
    "_ = importlib.reload(myutil)"
   ]
  },
  {
   "cell_type": "markdown",
   "metadata": {},
   "source": [
    "## Get data and do preliminary preprocessing"
   ]
  },
  {
   "cell_type": "code",
   "execution_count": 3,
   "metadata": {
    "collapsed": true
   },
   "outputs": [],
   "source": [
    "dfx_train = myutil.get_indexed_dataset('data/dengue_features_train.csv')\n",
    "dfy_train = myutil.get_indexed_dataset('data/dengue_labels_train.csv')\n",
    "dfx_test = myutil.get_indexed_dataset('data/dengue_features_test.csv')\n",
    "# combine training features with training labels for data exploration later on\n",
    "dftrain = myutil.set_index(pd.merge(dfx_train, dfy_train))\n",
    "# Will stack the train and test datasets to treat all NaN values together\n",
    "# Need to add bogus total_cases column to test dataset so the files can be easily concatenated\n",
    "# update total_cases = -1 to easily identify the records for later split data to original partitions\n",
    "dfx_test['total_cases'] = -1\n",
    "dfall = myutil.set_index(pd.concat((dftrain, dfx_test), axis=0))\n",
    "dfall.sort_index(axis=0, inplace=True)\n",
    "# drop unecessary columns and save column names\n",
    "delcols = ['year','week_start_date','reanalysis_sat_precip_amt_mm','reanalysis_specific_humidity_g_per_kg']\n",
    "dfall.drop(delcols, axis=1, inplace=True)\n",
    "cols = dfall.columns\n",
    "# remove NaNs\n",
    "dfall = myutil.set_nan_to_week_mean(dfall.copy())"
   ]
  },
  {
   "cell_type": "markdown",
   "metadata": {},
   "source": [
    "## One hot encode city and weekofyear"
   ]
  },
  {
   "cell_type": "code",
   "execution_count": 4,
   "metadata": {},
   "outputs": [
    {
     "data": {
      "text/plain": [
       "(676, 72)"
      ]
     },
     "execution_count": 4,
     "metadata": {},
     "output_type": "execute_result"
    }
   ],
   "source": [
    "# split dataset and hot encode weekof year\n",
    "dfall_copy = dfall.copy()\n",
    "dfall_iq = dfall_copy[dfall_copy['city'] == 'iq']\n",
    "dfall_sj = dfall_copy[dfall_copy['city'] == 'sj']\n",
    "enc = OneHotEncoder(categorical_features=np.array([0]))\n",
    "dset = dict()\n",
    "dset['iq'] = enc.fit_transform(dfall_iq.iloc[:,1:].values).toarray()\n",
    "dset['sj'] = enc.fit_transform(dfall_sj.iloc[:,1:].values).toarray()\n",
    "dset['iq'].shape"
   ]
  },
  {
   "cell_type": "markdown",
   "metadata": {},
   "source": [
    "## Create several versions of the datasets (ADD total cases as ONLY feature)"
   ]
  },
  {
   "cell_type": "code",
   "execution_count": 5,
   "metadata": {
    "collapsed": true,
    "scrolled": false
   },
   "outputs": [],
   "source": [
    "# for each city, create version of datasets with 1 to 16 shifts (3 months)\n",
    "for city in dset.keys():\n",
    "    datashift = dict()\n",
    "    for shift_no in range(1,17):\n",
    "        # total cases is THE ONLY FEATURE\n",
    "        datashift[shift_no] = myutil.shift(np.hstack((dset[city][:,-1:],dset[city][:,-1:])), shift_no)\n",
    "    dset[city] = datashift\n",
    "\n",
    "# for each city, each shift, create version of the dataset different scaling\n",
    "for city in dset.keys():\n",
    "    for shift_no in dset[city].keys():\n",
    "        vers = dict()\n",
    "        # save original as 'raw'\n",
    "        vers['raw'] = np.hstack((dset[city][shift_no][:,:-1], dset[city][shift_no][:,-1:]))\n",
    "        # save scaled with minmax in range [0,1] as 'minmax1'\n",
    "        scaler = MinMaxScaler(feature_range=(0,1))\n",
    "        vers['minmax1'] = np.hstack((scaler.fit_transform(dset[city][shift_no][:,:-1]), dset[city][shift_no][:,-1:]))\n",
    "        # save scaled with minmax in range [0,1] as 'minmax1'\n",
    "        # isolate features, so scaling will only affect features\n",
    "        scaler = MinMaxScaler(feature_range=(-1,1))\n",
    "        vers['minmax2'] = np.hstack((scaler.fit_transform(dset[city][shift_no][:,:-1]), dset[city][shift_no][:,-1:]))\n",
    "        dset[city][shift_no] = vers\n",
    "        \n",
    "# for each city, each shift, each version, create X_train, y_train, and X_test partitions\n",
    "dataset = dict()\n",
    "for city in dset.keys():\n",
    "    for shift_no in dset[city].keys():\n",
    "        for vers in dset[city][shift_no].keys():\n",
    "            npdata = dset[city][shift_no][vers]\n",
    "            partition = dict()\n",
    "            partition['X_train'] = npdata[npdata[:,-1]>0][:,:-1]\n",
    "            partition['y_train'] = npdata[npdata[:,-1]>0][:,-1:]\n",
    "            partition['X_test']  = npdata[npdata[:,-1]<0][:,:-1]\n",
    "            id = city + '_' + str(shift_no) + '_' + vers\n",
    "            dataset[id] = partition"
   ]
  },
  {
   "cell_type": "code",
   "execution_count": 6,
   "metadata": {
    "collapsed": true
   },
   "outputs": [],
   "source": [
    "#for key in dataset.keys():\n",
    "#    print(key[:2])"
   ]
  },
  {
   "cell_type": "markdown",
   "metadata": {},
   "source": [
    "## Linear regression"
   ]
  },
  {
   "cell_type": "code",
   "execution_count": 7,
   "metadata": {
    "scrolled": false
   },
   "outputs": [
    {
     "name": "stdout",
     "output_type": "stream",
     "text": [
      "Best result for iq\n",
      "\tBest dataset: iq_15_raw\n",
      "\tBest model  : BayesianRidge\n",
      "\t\tMAE train : 4.14\n",
      "\t\tMAE valid : 4.70\n",
      "\t\tVariance  : 0.50\n",
      "Best result for sj\n",
      "\tBest dataset: sj_11_minmax1\n",
      "\tBest model  : Lasso\n",
      "\t\tMAE train : 8.67\n",
      "\t\tMAE valid : 7.68\n",
      "\t\tVariance  : 0.90\n"
     ]
    }
   ],
   "source": [
    "best_score = dict()\n",
    "best_score['iq'] = 0 \n",
    "best_score['sj'] = 0 \n",
    "best_result = dict()\n",
    "for id in dataset.keys():\n",
    "    \n",
    "    myscore = dict()\n",
    "    X_train_, X_valid_, y_train_, y_valid_ = train_test_split(dataset[id]['X_train'], dataset[id]['y_train'],\\\n",
    "                                                              test_size=.33, random_state=42)\n",
    "    # Create linear regression object\n",
    "    for i in range(0, 6):\n",
    "        if i==0: \n",
    "            key = 'LinearRegression'\n",
    "            regr = linear_model.LinearRegression()\n",
    "        if i==1:\n",
    "            key = 'Ridge'\n",
    "            regr = linear_model.Ridge(alpha = .5)\n",
    "        if i==2:\n",
    "            key = 'RidgeCV'  \n",
    "            regr = linear_model.RidgeCV(alphas=[0.1, 1.0, 10.0])\n",
    "        if i==3:\n",
    "            key = 'Lasso'\n",
    "            regr = linear_model.Lasso(alpha = .1)\n",
    "        if i==4:\n",
    "            key = 'LassoLars'\n",
    "            regr = linear_model.LassoLars(alpha = .1)\n",
    "        if i==5:\n",
    "            key = 'BayesianRidge'  \n",
    "            regr = linear_model.BayesianRidge()\n",
    "\n",
    "        # Train the model using the training sets\n",
    "        regr.fit(X_train_, y_train_.ravel())\n",
    "\n",
    "        y_hat = regr.predict(X_train_)\n",
    "        y_hat[ y_hat < 0] = 0\n",
    "        y_hat = np.around(y_hat).astype('int')\n",
    "        y_pred = regr.predict(X_valid_)\n",
    "        y_pred[ y_pred < 0] = 0\n",
    "        y_pred = np.around(y_pred).astype('int')\n",
    "\n",
    "        # scores are training mae, validation mae, variance\n",
    "        mae_train = mean_absolute_error(y_train_, y_hat)\n",
    "        mae_valid = mean_absolute_error(y_valid_, y_pred)\n",
    "        r2        = r2_score(y_valid_, y_pred)\n",
    "\n",
    "        if abs(r2) < 1:\n",
    "            this_score = abs(r2/mae_valid)\n",
    "        else: \n",
    "            this_score = 0\n",
    "            \n",
    "        if id[:2] == 'iq':\n",
    "            if this_score > best_score['iq']:\n",
    "                best_score['iq'] = this_score\n",
    "                best_result['iq'] = (regr, id, key, mae_train, mae_valid, r2)\n",
    "        else:\n",
    "            if this_score > best_score['sj']:\n",
    "                best_score['sj'] = this_score\n",
    "                best_result['sj'] = (regr, id, key, mae_train, mae_valid, r2)\n",
    "\n",
    "for city in best_result.keys():\n",
    "    print('Best result for {}'.format(city))\n",
    "    print('\\tBest dataset: {}'.format(best_result[city][1]))\n",
    "    print('\\tBest model  : {}'.format(best_result[city][2]))\n",
    "    print('\\t\\tMAE train : %.2f' % best_result[city][3])\n",
    "    print('\\t\\tMAE valid : %.2f' % best_result[city][4])\n",
    "    print('\\t\\tVariance  : %.2f' % best_result[city][5])\n"
   ]
  },
  {
   "cell_type": "markdown",
   "metadata": {},
   "source": [
    "## Decisition tree regressor"
   ]
  },
  {
   "cell_type": "code",
   "execution_count": 8,
   "metadata": {
    "scrolled": false
   },
   "outputs": [
    {
     "name": "stdout",
     "output_type": "stream",
     "text": [
      "Best result for iq\n",
      "\tBest dataset: iq_11_minmax2\n",
      "\t\tMAE train : 2.16\n",
      "\t\tMAE valid : 4.20\n",
      "\t\tVariance  : 0.48\n",
      "Feature Importances:\n",
      "[ 0.03152522  0.0511803   0.02637617  0.02672976  0.03925776  0.02938238\n",
      "  0.02539808  0.0390092   0.07366031  0.18001311  0.47746772]\n",
      "Best result for sj\n",
      "\tBest dataset: sj_10_raw\n",
      "\t\tMAE train : 5.44\n",
      "\t\tMAE valid : 8.29\n",
      "\t\tVariance  : 0.91\n",
      "Feature Importances:\n",
      "[ 0.0071397   0.00747151  0.00490085  0.00370157  0.00451026  0.00721144\n",
      "  0.01204337  0.01929248  0.07837265  0.85535617]\n"
     ]
    }
   ],
   "source": [
    "best_score = dict()\n",
    "best_score['iq'] = 0 \n",
    "best_score['sj'] = 0 \n",
    "best_result = dict()\n",
    "for id in dataset.keys():\n",
    "        \n",
    "    myscore = dict()\n",
    "    X_train_, X_valid_, y_train_, y_valid_ = train_test_split(dataset[id]['X_train'], dataset[id]['y_train'],\\\n",
    "                                                              test_size=.33, random_state=42)\n",
    "        \n",
    "    #RandomForestRegressor(n_estimators=10, criterion=’mse’, max_depth=None, min_samples_split=2, \n",
    "    #                      min_samples_leaf=1, min_weight_fraction_leaf=0.0, max_features=’auto’, \n",
    "    #                      max_leaf_nodes=None, min_impurity_decrease=0.0, min_impurity_split=None, \n",
    "    #                      bootstrap=True, oob_score=False, n_jobs=1, random_state=None, verbose=0, \n",
    "    #                      warm_start=False)\n",
    "    \n",
    "    #regr = RandomForestRegressor(n_estimators=30, max_depth=max_depth, criterion='mse', random_state=0,\\\n",
    "    #                            min_samples_leaf=1)\n",
    "    \n",
    "    #AdaBoostRegressor(base_estimator=None, n_estimators=150, learning_rate=1.0, loss=’linear’, random_state=None)\n",
    "    \n",
    "    regr = AdaBoostRegressor(RandomForestRegressor(max_depth=6), n_estimators=200, learning_rate=0.01, \\\n",
    "                             loss='exponential', random_state=42)\n",
    "    \n",
    "    regr.fit(X_train_, y_train_.ravel())\n",
    "\n",
    "    y_hat = regr.predict(X_train_)\n",
    "    y_hat[ y_hat < 0] = 0\n",
    "    y_hat = np.around(y_hat).astype('int')\n",
    "    y_pred = regr.predict(X_valid_)\n",
    "    y_pred[ y_pred < 0] = 0\n",
    "    y_pred = np.around(y_pred).astype('int')\n",
    "\n",
    "    # scores are training mae, validation mae, variance\n",
    "    mae_train = mean_absolute_error(y_train_, y_hat)\n",
    "    mae_valid = mean_absolute_error(y_valid_, y_pred)\n",
    "    r2        = r2_score(y_valid_, y_pred)\n",
    "\n",
    "    this_score = abs(r2/mae_valid)\n",
    "    if id[:2] == 'iq':\n",
    "        if this_score > best_score['iq']:\n",
    "            best_score['iq'] = this_score\n",
    "            best_result['iq'] = (regr, id, mae_train, mae_valid, r2)\n",
    "    else:\n",
    "        if this_score > best_score['sj']:\n",
    "            best_score['sj'] = this_score\n",
    "            best_result['sj'] = (regr, id, mae_train, mae_valid, r2)\n",
    "    \n",
    "    #plt.scatter(y_valid, y_pred)\n",
    "    \n",
    "for city in best_result.keys():\n",
    "    print('Best result for {}'.format(city))\n",
    "    print('\\tBest dataset: {}'.format(best_result[city][1]))\n",
    "    #print('\\tBest model  : {}'.format(best_result[city][2]))\n",
    "    print('\\t\\tMAE train : %.2f' % best_result[city][2])\n",
    "    print('\\t\\tMAE valid : %.2f' % best_result[city][3])\n",
    "    print('\\t\\tVariance  : %.2f' % best_result[city][4])\n",
    "    print('Feature Importances:')\n",
    "    print(best_result[city][0].feature_importances_)\n",
    "    "
   ]
  },
  {
   "cell_type": "code",
   "execution_count": 9,
   "metadata": {
    "scrolled": false
   },
   "outputs": [
    {
     "name": "stdout",
     "output_type": "stream",
     "text": [
      "Database: iq_1_raw / Train Loss: 5.5922876965831705 / Valid Loss 7.077066026415143 / R2: -0.07733943973712587\n",
      "Database: iq_1_minmax1 / Train Loss: 5.790062341891544 / Valid Loss 7.30391754082271 / R2: -0.0826460246220646\n",
      "Database: iq_1_minmax2 / Train Loss: 5.8795867453158746 / Valid Loss 7.390355508668082 / R2: -0.1313638974689546\n",
      "Database: iq_2_raw / Train Loss: 5.453301263527131 / Valid Loss 6.8938026564461845 / R2: -0.07415548880616263\n",
      "Database: iq_2_minmax1 / Train Loss: 5.739561765966281 / Valid Loss 7.2969489097595215 / R2: -0.08483713063907161\n",
      "Database: iq_2_minmax2 / Train Loss: 5.782768088327328 / Valid Loss 7.3537451335362025 / R2: -0.08483713063907161\n",
      "Database: iq_3_raw / Train Loss: 5.128101364827492 / Valid Loss 6.507271214893886 / R2: -0.02273296946952974\n",
      "Database: iq_3_minmax1 / Train Loss: 5.775552348351814 / Valid Loss 7.351020581381661 / R2: -0.08483713063907161\n",
      "Database: iq_3_minmax2 / Train Loss: 5.778451652594016 / Valid Loss 7.355647649083819 / R2: -0.08483713063907161\n",
      "Database: iq_4_raw / Train Loss: 5.287590289619607 / Valid Loss 6.766405255453927 / R2: -0.07179320263157685\n",
      "Database: iq_4_minmax1 / Train Loss: 5.784659219459749 / Valid Loss 7.321864560672215 / R2: -0.08483713063907161\n",
      "Database: iq_4_minmax2 / Train Loss: 5.790242369745819 / Valid Loss 7.351530820982797 / R2: -0.08483713063907161\n",
      "Database: iq_5_raw / Train Loss: 5.189054645702872 / Valid Loss 6.574742092405047 / R2: -0.028450386732657318\n",
      "Database: iq_5_minmax1 / Train Loss: 5.78565827389838 / Valid Loss 7.350583696365357 / R2: -0.08483713063907161\n",
      "Database: iq_5_minmax2 / Train Loss: 5.793530801652183 / Valid Loss 7.344125778334481 / R2: -0.08483713063907161\n",
      "Database: iq_6_raw / Train Loss: 5.2402501114657225 / Valid Loss 6.657877462250846 / R2: -0.03290107082970284\n",
      "Database: iq_6_minmax1 / Train Loss: 5.806567974493537 / Valid Loss 7.340108251571655 / R2: -0.08483713063907161\n",
      "Database: iq_6_minmax2 / Train Loss: 5.813631294478832 / Valid Loss 7.320462346076965 / R2: -0.1299602201768093\n",
      "Database: iq_7_raw / Train Loss: 5.512313685786556 / Valid Loss 7.053529923302786 / R2: -0.07706555148500005\n",
      "Database: iq_7_minmax1 / Train Loss: 5.805958516161207 / Valid Loss 7.333565933363778 / R2: -0.08483713063907161\n",
      "Database: iq_7_minmax2 / Train Loss: 5.82102289166249 / Valid Loss 7.332752261843 / R2: -0.1299602201768093\n",
      "Database: iq_8_raw / Train Loss: 5.360680656114095 / Valid Loss 6.875346776417324 / R2: -0.07412125277464687\n",
      "Database: iq_8_minmax1 / Train Loss: 5.763301676427814 / Valid Loss 7.3082391602652415 / R2: -0.08483713063907161\n",
      "Database: iq_8_minmax2 / Train Loss: 5.7822354142095005 / Valid Loss 7.349797490664891 / R2: -0.08483713063907161\n",
      "Database: iq_9_raw / Train Loss: 5.2877774129451165 / Valid Loss 6.752557774952479 / R2: -0.04115195442499475\n",
      "Database: iq_9_minmax1 / Train Loss: 5.795760728943516 / Valid Loss 7.339180762427194 / R2: -0.08483713063907161\n",
      "Database: iq_9_minmax2 / Train Loss: 5.815061841212528 / Valid Loss 7.334762620925903 / R2: -0.08483713063907161\n",
      "Database: iq_10_raw / Train Loss: 5.223942244556588 / Valid Loss 6.664634203910827 / R2: -0.04214479933895099\n",
      "Database: iq_10_minmax1 / Train Loss: 5.349401603282337 / Valid Loss 6.790032012122018 / R2: -0.03550300922489846\n",
      "Database: iq_10_minmax2 / Train Loss: 5.798514070645185 / Valid Loss 7.348403338023594 / R2: -0.08483713063907161\n",
      "Database: iq_11_raw / Train Loss: 5.47900323143275 / Valid Loss 6.710662126541138 / R2: -0.07547908120189795\n",
      "Database: iq_11_minmax1 / Train Loss: 5.434758681290562 / Valid Loss 6.556548857688904 / R2: -0.029330764339473125\n",
      "Database: iq_11_minmax2 / Train Loss: 5.925526710786584 / Valid Loss 7.115671614238194 / R2: -0.1287729439010854\n",
      "Database: iq_12_raw / Train Loss: 5.273126647244915 / Valid Loss 6.522468723569598 / R2: -0.0270977812654849\n",
      "Database: iq_12_minmax1 / Train Loss: 5.434924469398526 / Valid Loss 6.564718188558306 / R2: -0.02944241349317256\n",
      "Database: iq_12_minmax2 / Train Loss: 5.927518730871248 / Valid Loss 7.121714881488255 / R2: -0.08217803042386285\n",
      "Database: iq_13_raw / Train Loss: 5.311371876999683 / Valid Loss 6.599568925585065 / R2: -0.05180946061762204\n",
      "Database: iq_13_minmax1 / Train Loss: 5.393482854425275 / Valid Loss 6.5042811870574955 / R2: -0.028586436648143865\n",
      "Database: iq_13_minmax2 / Train Loss: 5.9247684739925 / Valid Loss 7.117369283948626 / R2: -0.08217803042386285\n",
      "Database: iq_14_raw / Train Loss: 5.336076894834269 / Valid Loss 6.620736914021628 / R2: -0.03844877855825879\n",
      "Database: iq_14_minmax1 / Train Loss: 5.562973489188474 / Valid Loss 6.725199777739388 / R2: -0.04179825316924113\n",
      "Database: iq_14_minmax2 / Train Loss: 5.917856405143603 / Valid Loss 7.119683415549142 / R2: -0.08217803042386285\n",
      "Database: iq_15_raw / Train Loss: 5.37314146525447 / Valid Loss 6.548688091550555 / R2: -0.04775287469987677\n",
      "Database: iq_15_minmax1 / Train Loss: 5.469553688810908 / Valid Loss 6.614728205544608 / R2: -0.03152653102889502\n",
      "Database: iq_15_minmax2 / Train Loss: 5.91632654094022 / Valid Loss 7.120547764641898 / R2: -0.08217803042386285\n",
      "Database: iq_16_raw / Train Loss: 5.638020698060381 / Valid Loss 6.300602889060974 / R2: -0.06971424107601765\n",
      "Database: iq_16_minmax1 / Train Loss: 5.637764218005728 / Valid Loss 6.404512711933681 / R2: -0.02923446184325096\n",
      "Database: iq_16_minmax2 / Train Loss: 6.07458610399395 / Valid Loss 6.825628914151873 / R2: -0.0759039258930354\n",
      "Database: sj_1_raw / Train Loss: 25.074004811612983 / Valid Loss 25.461092818867076 / R2: -0.1287448810220153\n",
      "Database: sj_1_minmax1 / Train Loss: 25.245450342830456 / Valid Loss 25.69466950676658 / R2: -0.146114568897741\n",
      "Database: sj_1_minmax2 / Train Loss: 25.332683973480762 / Valid Loss 25.80601441395747 / R2: -0.15154134710057132\n",
      "Database: sj_2_raw / Train Loss: 24.83951712802746 / Valid Loss 26.397372935416257 / R2: -0.15513273183510212\n",
      "Database: sj_2_minmax1 / Train Loss: 25.039062193844522 / Valid Loss 26.698317897436286 / R2: -0.15620523679510345\n",
      "Database: sj_2_minmax2 / Train Loss: 25.06857408183727 / Valid Loss 26.724841509269194 / R2: -0.17183299289213894\n",
      "Database: sj_3_raw / Train Loss: 22.96306992113782 / Valid Loss 22.720995264643566 / R2: -0.09202549161131657\n",
      "Database: sj_3_minmax1 / Train Loss: 25.576414048480068 / Valid Loss 25.33506087759807 / R2: -0.1498262927274303\n",
      "Database: sj_3_minmax2 / Train Loss: 25.61716383753099 / Valid Loss 25.371948489148764 / R2: -0.1498262927274303\n",
      "Database: sj_4_raw / Train Loss: 23.88178331802049 / Valid Loss 23.63836446258843 / R2: -0.11475187157088729\n",
      "Database: sj_4_minmax1 / Train Loss: 25.502577188894175 / Valid Loss 25.61080838492328 / R2: -0.13743661366738325\n",
      "Database: sj_4_minmax2 / Train Loss: 25.565418383157578 / Valid Loss 25.65364280352763 / R2: -0.13743661366738325\n",
      "Database: sj_5_raw / Train Loss: 24.021520709837883 / Valid Loss 22.278256043889165 / R2: -0.1026369268806615\n",
      "Database: sj_5_minmax1 / Train Loss: 26.10208123586412 / Valid Loss 24.40354369980058 / R2: -0.14453241619751322\n",
      "Database: sj_5_minmax2 / Train Loss: 26.24711569265467 / Valid Loss 24.507375430437474 / R2: -0.16066171962337683\n",
      "Database: sj_6_raw / Train Loss: 23.311187038113992 / Valid Loss 23.268387306749432 / R2: -0.10500813495625194\n",
      "Database: sj_6_minmax1 / Train Loss: 25.704352072746524 / Valid Loss 25.61768696354885 / R2: -0.17811239517215083\n",
      "Database: sj_6_minmax2 / Train Loss: 25.671838583484774 / Valid Loss 25.595043643627292 / R2: -0.16119358657199578\n",
      "Database: sj_7_raw / Train Loss: 23.24449509141518 / Valid Loss 23.985783520866843 / R2: -0.13124091571753893\n",
      "Database: sj_7_minmax1 / Train Loss: 25.39923086305042 / Valid Loss 26.309673343608583 / R2: -0.19547180741665993\n",
      "Database: sj_7_minmax2 / Train Loss: 25.410690266019117 / Valid Loss 26.32267118591109 / R2: -0.19547180741665993\n",
      "Database: sj_8_raw / Train Loss: 23.86231543212792 / Valid Loss 23.89195152032571 / R2: -0.1372366115496666\n",
      "Database: sj_8_minmax1 / Train Loss: 25.55521507293997 / Valid Loss 25.880823271391822 / R2: -0.16417229369574193\n",
      "Database: sj_8_minmax2 / Train Loss: 25.589614157915502 / Valid Loss 25.903617329675644 / R2: -0.16417229369574193\n",
      "Database: sj_9_raw / Train Loss: 25.869493232961613 / Valid Loss 25.384784107520932 / R2: -0.1818115604569175\n",
      "Database: sj_9_minmax1 / Train Loss: 25.85170183366942 / Valid Loss 25.369260775456663 / R2: -0.1821880802373006\n"
     ]
    },
    {
     "name": "stdout",
     "output_type": "stream",
     "text": [
      "Database: sj_9_minmax2 / Train Loss: 25.963162391316928 / Valid Loss 25.46884144642314 / R2: -0.20163298374523886\n",
      "Database: sj_10_raw / Train Loss: 25.3336467549712 / Valid Loss 22.51793090007344 / R2: -0.12179645418769636\n",
      "Database: sj_10_minmax1 / Train Loss: 25.678228877545177 / Valid Loss 22.373768922149157 / R2: -0.13014558736725546\n",
      "Database: sj_10_minmax2 / Train Loss: 26.768891210880618 / Valid Loss 23.548234945828796 / R2: -0.16462007153007407\n",
      "Database: sj_11_raw / Train Loss: 25.430917750687808 / Valid Loss 22.254188728959935 / R2: -0.12469426405478012\n",
      "Database: sj_11_minmax1 / Train Loss: 25.00796951776192 / Valid Loss 21.443104747094605 / R2: -0.10077824355022713\n",
      "Database: sj_11_minmax2 / Train Loss: 26.871306604852165 / Valid Loss 23.29785362670296 / R2: -0.16798893276027616\n",
      "Database: sj_12_raw / Train Loss: 25.080382989598558 / Valid Loss 23.46153009565253 / R2: -0.13175187117157905\n",
      "Database: sj_12_minmax1 / Train Loss: 24.901044210830293 / Valid Loss 23.065206762991455 / R2: -0.1239682012930381\n",
      "Database: sj_12_minmax2 / Train Loss: 26.323000590522568 / Valid Loss 24.42218884982561 / R2: -0.1692294969754864\n",
      "Database: sj_13_raw / Train Loss: 24.78319598872487 / Valid Loss 24.45441095138851 / R2: -0.13030293756142197\n",
      "Database: sj_13_minmax1 / Train Loss: 24.52876432155206 / Valid Loss 23.819687005720642 / R2: -0.10878517470755655\n",
      "Database: sj_13_minmax2 / Train Loss: 25.90483965524813 / Valid Loss 25.34302133321762 / R2: -0.14708702993024692\n",
      "Database: sj_14_raw / Train Loss: 24.486686218075636 / Valid Loss 25.01995063536238 / R2: -0.1460885524138682\n",
      "Database: sj_14_minmax1 / Train Loss: 24.313684052568142 / Valid Loss 24.562991642715907 / R2: -0.13840729528827356\n",
      "Database: sj_14_minmax2 / Train Loss: 25.64712448430255 / Valid Loss 25.909340952882673 / R2: -0.16036338477750545\n",
      "Database: sj_15_raw / Train Loss: 24.520873238287066 / Valid Loss 24.71772313511411 / R2: -0.12645446450605236\n",
      "Database: sj_15_minmax1 / Train Loss: 24.506702218071258 / Valid Loss 24.024274511305805 / R2: -0.1293657206190555\n",
      "Database: sj_15_minmax2 / Train Loss: 25.847701088225026 / Valid Loss 25.55604596972072 / R2: -0.15129629304462333\n",
      "Database: sj_16_raw / Train Loss: 23.529782285892555 / Valid Loss 26.817384729290954 / R2: -0.12594239575829413\n",
      "Database: sj_16_minmax1 / Train Loss: 23.231980911864735 / Valid Loss 25.859647421947013 / R2: -0.11283940155150951\n",
      "Database: sj_16_minmax2 / Train Loss: 24.655907025733935 / Valid Loss 27.810206403826722 / R2: -0.14756751503755483\n",
      "Best result for iq\n",
      "Best dataset: iq_11_minmax2\n",
      "\t\tFinal loss train: 5.925526710786584\n",
      "\t\tFinal loss valid: 7.115671614238194\n",
      "\t\tVariance score: -0.13\n"
     ]
    },
    {
     "data": {
      "image/png": "[encoded data removed]",
      "text/plain": [
       "<matplotlib.figure.Figure at 0x1ccef05cc0>"
      ]
     },
     "metadata": {},
     "output_type": "display_data"
    },
    {
     "name": "stdout",
     "output_type": "stream",
     "text": [
      "Best result for sj\n",
      "Best dataset: sj_7_minmax1\n",
      "\t\tFinal loss train: 25.39923086305042\n",
      "\t\tFinal loss valid: 26.309673343608583\n",
      "\t\tVariance score: -0.20\n"
     ]
    },
    {
     "data": {
      "image/png": "[encoded data removed]",
      "text/plain": [
       "<matplotlib.figure.Figure at 0x1ccefe00b8>"
      ]
     },
     "metadata": {},
     "output_type": "display_data"
    }
   ],
   "source": [
    "best_score = dict()\n",
    "best_score['iq'] = 0 \n",
    "best_score['sj'] = 0 \n",
    "best_result = dict()\n",
    "for id in dataset.keys():\n",
    "        \n",
    "    myscore = dict()\n",
    "    X_train_, X_valid_, y_train_, y_valid_ = train_test_split(dataset[id]['X_train'], dataset[id]['y_train'],\\\n",
    "                                                              test_size=.33, random_state=42)\n",
    "    \n",
    "    X_train_ = X_train_.reshape(X_train_.shape[0], int(id[3:4]), int(X_train_.shape[1]/int(id[3:4])))\n",
    "    X_valid_ = X_valid_.reshape(X_valid_.shape[0], int(id[3:4]), int(X_valid_.shape[1]/int(id[3:4])))\n",
    "    \n",
    "    # build graph\n",
    "    regr = Sequential()\n",
    "    \n",
    "    #keras.layers.LSTM(units, activation='tanh', recurrent_activation='hard_sigmoid', \n",
    "    #              use_bias=True, kernel_initializer='glorot_uniform', \n",
    "    #              recurrent_initializer='orthogonal', bias_initializer='zeros', \n",
    "    #              unit_forget_bias=True, kernel_regularizer=None, recurrent_regularizer=None, \n",
    "    #              bias_regularizer=None, activity_regularizer=None, kernel_constraint=None, \n",
    "    #              recurrent_constraint=None, bias_constraint=None, dropout=0.0, \n",
    "    #              recurrent_dropout=0.0, implementation=1, return_sequences=False, \n",
    "    #              return_state=False, go_backwards=False, stateful=False, unroll=False)\n",
    "\n",
    "    regr.add(GRU(X_train_.shape[2], input_shape=(X_train_.shape[1], X_train_.shape[2]),\\\n",
    "                  implementation=2, return_sequences=True))\n",
    "    regr.add(GRU(5))\n",
    "    regr.add(Dense(1, kernel_regularizer=regularizers.l2(0.01), activation='linear'))\n",
    "    regr.compile(loss='mae', optimizer='rmsprop')  # 'adam'\n",
    "    \n",
    "    # fit net\n",
    "    history = regr.fit(X_train_, y_train_, epochs=20, batch_size=4,\\\n",
    "                       validation_data=(X_valid_, y_valid_), verbose=0, shuffle=False)\n",
    "    \n",
    "    y_hat = regr.predict(X_train_)\n",
    "    y_hat[ y_hat < 0] = 0\n",
    "    y_hat = np.around(y_hat).astype('int')\n",
    "    y_pred = regr.predict(X_valid_)\n",
    "    y_pred[ y_pred < 0] = 0\n",
    "    y_pred = np.around(y_pred).astype('int')\n",
    "    \n",
    "    loss_train = history.history['loss'][-1]\n",
    "    loss_valid = history.history['val_loss'][-1]\n",
    "    r2 = r2_score(y_valid_, y_pred)\n",
    "    \n",
    "    print('Database: {} / Train Loss: {} / Valid Loss {} / R2: {}'.format(id, loss_train, loss_valid, r2))\n",
    "\n",
    "    if loss_valid > loss_train:\n",
    "        this_score = abs(r2/loss_valid)\n",
    "        #this_score = loss_valid\n",
    "    else:\n",
    "        this_score = 0\n",
    "    \n",
    "    if id[:2] == 'iq':\n",
    "        if this_score > best_score['iq']:\n",
    "            best_score['iq'] = this_score\n",
    "            best_result['iq'] = (history.history, id, loss_train, loss_valid, r2)\n",
    "    else:\n",
    "        if this_score > best_score['sj']:\n",
    "            best_score['sj'] = this_score\n",
    "            best_result['sj'] = (history.history, id, loss_train, loss_valid, r2)\n",
    "        \n",
    "for city in best_result.keys():\n",
    "    print('Best result for {}'.format(city))\n",
    "    print('Best dataset: {}'.format(best_result[city][1]))\n",
    "    print('\\t\\tFinal loss train: {}'.format(best_result[city][2]))\n",
    "    print('\\t\\tFinal loss valid: {}'.format(best_result[city][3]))\n",
    "    print('\\t\\tVariance score: %.2f' % best_result[city][4])\n",
    "    plt.plot(best_result[city][0]['loss'], label='train')\n",
    "    plt.plot(best_result[city][0]['val_loss'], label='test')\n",
    "    plt.legend()\n",
    "    plt.show()\n",
    "    "
   ]
  },
  {
   "cell_type": "code",
   "execution_count": null,
   "metadata": {
    "collapsed": true
   },
   "outputs": [],
   "source": []
  }
 ],
 "metadata": {
  "kernelspec": {
   "display_name": "Python 3",
   "language": "python",
   "name": "python3"
  },
  "language_info": {
   "codemirror_mode": {
    "name": "ipython",
    "version": 3
   },
   "file_extension": ".py",
   "mimetype": "text/x-python",
   "name": "python",
   "nbconvert_exporter": "python",
   "pygments_lexer": "ipython3",
   "version": "3.6.3"
  }
 },
 "nbformat": 4,
 "nbformat_minor": 2
}
