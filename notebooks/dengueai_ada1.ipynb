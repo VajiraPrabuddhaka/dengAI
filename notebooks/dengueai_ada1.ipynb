{
 "cells": [
  {
   "cell_type": "code",
   "execution_count": 1,
   "metadata": {},
   "outputs": [
    {
     "name": "stdout",
     "output_type": "stream",
     "text": [
      "/Users/carlos2/anaconda/envs/dsdht/bin/python\n"
     ]
    }
   ],
   "source": [
    "import sys; print(sys.executable)\n",
    "import scipy as sp\n",
    "import numpy as np\n",
    "import matplotlib as mpl\n",
    "import matplotlib.pyplot as plt\n",
    "import pandas as pd\n",
    "from sklearn.preprocessing import MinMaxScaler, OneHotEncoder\n",
    "from sklearn.model_selection import train_test_split\n",
    "from sklearn.metrics import mean_squared_error, mean_absolute_error, r2_score\n",
    "from sklearn.model_selection import train_test_split\n",
    "from sklearn.ensemble import RandomForestRegressor, AdaBoostRegressor\n",
    "from sklearn.preprocessing import StandardScaler\n",
    "from sklearn.decomposition import PCA\n",
    "%matplotlib inline\n",
    "import myutil_ada as myutil"
   ]
  },
  {
   "cell_type": "code",
   "execution_count": 2,
   "metadata": {
    "collapsed": true
   },
   "outputs": [],
   "source": [
    "import importlib\n",
    "_ = importlib.reload(myutil)"
   ]
  },
  {
   "cell_type": "markdown",
   "metadata": {},
   "source": [
    "## Get training datasets"
   ]
  },
  {
   "cell_type": "code",
   "execution_count": 3,
   "metadata": {
    "collapsed": true
   },
   "outputs": [],
   "source": [
    "#\n",
    "# iq training data\n",
    "#\n",
    "dfx_train_iq = pd.read_csv('data/dengue_features_train_with_outliers_iq.csv')\n",
    "dfx_train_iq.set_index('yearweekofyear', inplace=True)\n",
    "dfy_train_iq = pd.read_csv('data/dengue_labels_train_iq.csv')\n",
    "dfy_train_iq.set_index('yearweekofyear', inplace=True)\n",
    "#dftrain_iq = pd.merge(dfx_train_iq, dfy_train_iq)\n",
    "#dftrain_iq.set_index('yearweekofyear', inplace=True)\n",
    "#\n",
    "# sj training data\n",
    "# \n",
    "dfx_train_sj = pd.read_csv('data/dengue_features_train_with_outliers_sj.csv')\n",
    "dfx_train_sj.set_index('yearweekofyear', inplace=True)\n",
    "dfy_train_sj = pd.read_csv('data/dengue_labels_train_sj.csv')\n",
    "dfy_train_sj.set_index('yearweekofyear', inplace=True)\n",
    "#dftrain_sj = pd.merge(dfx_train_sj, dfy_train_sj)\n",
    "#dftrain_sj.set_index('yearweekofyear', inplace=True)"
   ]
  },
  {
   "cell_type": "code",
   "execution_count": 4,
   "metadata": {
    "collapsed": true,
    "scrolled": false
   },
   "outputs": [],
   "source": [
    "def rfr_run(X, y, max_depth, exploring=False):\n",
    "    \n",
    "    X_train, X_valid, y_train, y_valid = train_test_split(X, y, test_size=0.33)   #, random_state=42)\n",
    "    \n",
    "    if exploring: print(X_train.shape, X_valid.shape, y_train.shape, y_valid.shape)\n",
    "        \n",
    "    #RandomForestRegressor(n_estimators=10, criterion=’mse’, max_depth=None, min_samples_split=2, \n",
    "    #                      min_samples_leaf=1, min_weight_fraction_leaf=0.0, max_features=’auto’, \n",
    "    #                      max_leaf_nodes=None, min_impurity_decrease=0.0, min_impurity_split=None, \n",
    "    #                      bootstrap=True, oob_score=False, n_jobs=1, random_state=None, verbose=0, \n",
    "    #                      warm_start=False)\n",
    "    \n",
    "    #regr = RandomForestRegressor(n_estimators=30, max_depth=max_depth, criterion='mse', random_state=0,\\\n",
    "    #                            min_samples_leaf=1)\n",
    "    \n",
    "    #AdaBoostRegressor(base_estimator=None, n_estimators=150, learning_rate=1.0, loss=’linear’, random_state=None)\n",
    "    \n",
    "    regr = AdaBoostRegressor(RandomForestRegressor(max_depth=6), n_estimators=200, learning_rate=0.01, loss='exponential', random_state=None)\n",
    "    \n",
    "    model = regr.fit(X_train, y_train.ravel())\n",
    "    y_pred = model.predict(X_valid)\n",
    "    y_pred[ y_pred < 0] = 0\n",
    "    y_pred = np.around(y_pred).astype('int')\n",
    "    \n",
    "    print('Train mea: {}'.format(mean_absolute_error(model.predict(X_train), y_train)))\n",
    "    print('Valid mea: {}'.format(mean_absolute_error(y_valid, y_pred)))\n",
    "    # Explained variance score: 1 is perfect prediction\n",
    "    print('Variance score: %.2f' % r2_score(y_valid, y_pred))\n",
    "    print('Feature Importances:')\n",
    "    print(model.feature_importances_)\n",
    "    \n",
    "    plt.scatter(y_valid, y_pred)\n",
    "\n",
    "    #print(np.hstack((y_valid, y_pred.reshape(y_pred.shape[0],1))))\n",
    "    \n",
    "    return model\n",
    "    "
   ]
  },
  {
   "cell_type": "markdown",
   "metadata": {},
   "source": [
    "## First make predictions without feature total_cases"
   ]
  },
  {
   "cell_type": "code",
   "execution_count": 5,
   "metadata": {
    "scrolled": false
   },
   "outputs": [
    {
     "name": "stdout",
     "output_type": "stream",
     "text": [
      "(347, 19) (172, 19) (347, 1) (172, 1)\n",
      "Train mea: 2.0829016783136276\n",
      "Valid mea: 4.1395348837209305\n",
      "Variance score: 0.60\n",
      "Feature Importances:\n",
      "[ 0.03740463  0.03716446  0.02476863  0.01200519  0.00854032  0.01005905\n",
      "  0.00945026  0.0520139   0.02178538  0.0193987   0.01466117  0.01476109\n",
      "  0.01709193  0.01087095  0.01313661  0.01545407  0.02400761  0.01213547\n",
      "  0.64529057]\n"
     ]
    },
    {
     "data": {
      "image/png": "[encoded data removed]",
      "text/plain": [
       "<matplotlib.figure.Figure at 0x111195c88>"
      ]
     },
     "metadata": {},
     "output_type": "display_data"
    }
   ],
   "source": [
    "# total cases is rightmost column\n",
    "#dfx_iq = dfx_train_iq.iloc[:,:-1].copy()\n",
    "dfx_iq = dfx_train_iq.copy()\n",
    "\n",
    "#pca = PCA(n_components=10)\n",
    "#dfx_iq = pd.DataFrame(pca.fit_transform(dfx_iq.values))\n",
    "\n",
    "do_scale = 0\n",
    "periods_iq = 1\n",
    "X_iq, scaler_iq, scaler_tc_iq = myutil.preprocess(dfx_iq, do_scale, periods_iq)\n",
    "y_iq = dfy_train_iq.values[periods_iq:,:]\n",
    "regr_iq = rfr_run(X_iq, y_iq, 2, exploring=True)"
   ]
  },
  {
   "cell_type": "code",
   "execution_count": 6,
   "metadata": {},
   "outputs": [
    {
     "name": "stdout",
     "output_type": "stream",
     "text": [
      "(626, 19) (309, 19) (626, 1) (309, 1)\n",
      "Train mea: 4.908545512855319\n",
      "Valid mea: 9.388349514563107\n",
      "Variance score: 0.88\n",
      "Feature Importances:\n",
      "[  1.61865377e-03   2.36557338e-03   4.21717343e-03   2.26094640e-03\n",
      "   3.57893507e-03   2.03580492e-03   1.71370576e-03   7.84346221e-03\n",
      "   1.29074525e-03   1.73147293e-03   3.46304332e-03   2.13319763e-03\n",
      "   1.87544713e-03   2.63107601e-03   3.28629603e-03   7.85804588e-04\n",
      "   1.04498575e-03   2.64285283e-03   9.53480824e-01]\n"
     ]
    },
    {
     "data": {
      "image/png": "[encoded data removed]",
      "text/plain": [
       "<matplotlib.figure.Figure at 0x1a22170240>"
      ]
     },
     "metadata": {},
     "output_type": "display_data"
    }
   ],
   "source": [
    "# total cases is rightmost column\n",
    "#dfx_sj = dfx_train_sj.iloc[:,:-1].copy()\n",
    "dfx_sj = dfx_train_sj.copy()\n",
    "\n",
    "#pca = PCA(n_components=3)\n",
    "#dfx_sj = pd.DataFrame(pca.fit_transform(dfx_sj.values))\n",
    "\n",
    "do_scale = 0\n",
    "periods_sj = 1\n",
    "X_sj, scaler_sj, scaler_tc_sj = myutil.preprocess(dfx_sj, do_scale, periods_sj)\n",
    "y_sj = dfy_train_sj.values[periods_sj:,:]\n",
    "regr_sj = rfr_run(X_sj, y_sj, 2, exploring=True)"
   ]
  },
  {
   "cell_type": "markdown",
   "metadata": {},
   "source": [
    "## Get test dataset and create predictions"
   ]
  },
  {
   "cell_type": "code",
   "execution_count": 7,
   "metadata": {
    "collapsed": true
   },
   "outputs": [],
   "source": [
    "dfx_test_iq = pd.read_csv('data/dengue_features_test_with_outliers_iq.csv')\n",
    "dfx_test_iq.set_index('yearweekofyear', inplace=True)\n",
    "dfx_test_sj = pd.read_csv('data/dengue_features_test_with_outliers_sj.csv')\n",
    "dfx_test_sj.set_index('yearweekofyear', inplace=True)"
   ]
  },
  {
   "cell_type": "markdown",
   "metadata": {},
   "source": [
    "### Predict San Juan first"
   ]
  },
  {
   "cell_type": "code",
   "execution_count": 8,
   "metadata": {
    "collapsed": true,
    "scrolled": false
   },
   "outputs": [],
   "source": [
    "# first prediction will require periods_sj data from training dataset along with training labels\n",
    "feature_count_sj = len(dfx_train_sj.columns)\n",
    "df_last_train_sj = dfx_train_sj.iloc[-periods_sj:,:].values.reshape(1,periods_sj*feature_count_sj)\n",
    "\n",
    "#X_last_train_sj = scaler_sj.transform(df_last_train_sj)\n",
    "\n",
    "# predict, scale, set to zero if needed\n",
    "#y_pred = max([[0]],scaler_tc_sj.transform(y_sj[-1:,:]))\n",
    "y_pred = max([[0]],y_sj[-1:,:])\n",
    "\n",
    "#print(scaler_tc_sj.transform(regr_sj.predict(X_last_train_sj).reshape(1,1)))\n",
    "\n",
    "# now, for every row in test dataset, append prior prediction to get a new one\n",
    "predictions_sj = list()\n",
    "sick_sj = y_pred\n",
    "nptest_sj = dfx_test_sj.values\n",
    "for i in range(0, nptest_sj.shape[0]):\n",
    "    #print(sick_sj)\n",
    "    #X_sj = scaler_sj.transform(np.hstack((nptest_sj[i:i+1], sick_sj)))\n",
    "    #sick_sj = max([[0]],scaler_tc_sj.transform(regr_sj.predict(X_sj).reshape(1,1)))\n",
    "    X_sj = np.hstack((nptest_sj[i:i+1], sick_sj))\n",
    "    #print(X_sj)\n",
    "    sick_sj = max([[0]],regr_sj.predict(X_sj).reshape(1,1))\n",
    "    predictions_sj.append(int(round(sick_sj[0][0])))\n",
    "np_predictions_sj = np.array(predictions_sj).reshape(len(predictions_sj),1)"
   ]
  },
  {
   "cell_type": "markdown",
   "metadata": {},
   "source": [
    "### Predict Iquito"
   ]
  },
  {
   "cell_type": "code",
   "execution_count": 9,
   "metadata": {
    "collapsed": true,
    "scrolled": false
   },
   "outputs": [],
   "source": [
    "# first prediction will require periods_sj data from training dataset along with training labels\n",
    "feature_count_iq = len(dfx_train_iq.columns)\n",
    "df_last_train_iq = dfx_train_iq.iloc[-periods_iq:,:].values.reshape(1,periods_iq*feature_count_iq)\n",
    "\n",
    "#X_last_train_iq = scaler_iq.transform(df_last_train_iq)\n",
    "\n",
    "# predict, scale, set to zero if needed\n",
    "#y_pred = max([[0]],scaler_tc_iq.transform(y_iq[-1:,:]))\n",
    "y_pred = max([[0]],y_iq[-1:,:])\n",
    "\n",
    "#print(scaler_tc_iq.transform(regr_iq.predict(X_last_train_iq).reshape(1,1)))\n",
    "\n",
    "# now, for every row in test dataset, append prior prediction to get a new one\n",
    "predictions_iq = list()\n",
    "sick_iq = y_pred\n",
    "nptest_iq = dfx_test_iq.values\n",
    "for i in range(0, nptest_iq.shape[0]):\n",
    "    #print(sick_iq)\n",
    "    #X_iq = scaler_sj.transform(np.hstack((nptest_iq[i:i+1], sick_iq)))\n",
    "    #sick_iq = max([[0]],scaler_tc_iq.transform(regr_iq.predict(X_iq).reshape(1,1)))\n",
    "    X_iq = np.hstack((nptest_iq[i:i+1], sick_iq))\n",
    "    #print(X_iq)\n",
    "    sick_iq = max([[0]],regr_iq.predict(X_iq).reshape(1,1))\n",
    "    predictions_iq.append(int(round(sick_iq[0][0])))\n",
    "np_predictions_iq = np.array(predictions_iq).reshape(len(predictions_iq),1)"
   ]
  },
  {
   "cell_type": "code",
   "execution_count": 10,
   "metadata": {
    "collapsed": true
   },
   "outputs": [],
   "source": [
    "dfsubm = pd.read_csv('data/submission_format.csv')\n",
    "npsubm_sj = np.concatenate((dfsubm[dfsubm['city']=='sj'][['city','year','weekofyear']].values, \\\n",
    "                            np_predictions_sj), axis=1)\n",
    "npsubm_iq = np.concatenate((dfsubm[dfsubm['city']=='iq'][['city','year','weekofyear']].values, \\\n",
    "                            np_predictions_iq), axis=1)\n",
    "dfresults = pd.DataFrame(np.concatenate((npsubm_sj, npsubm_iq), axis=0), columns=dfsubm.columns)\n",
    "dfresults.to_csv(\"data/submission_20171123_ada.csv\", index=False)"
   ]
  }
 ],
 "metadata": {
  "kernelspec": {
   "display_name": "Python 3",
   "language": "python",
   "name": "python3"
  },
  "language_info": {
   "codemirror_mode": {
    "name": "ipython",
    "version": 3
   },
   "file_extension": ".py",
   "mimetype": "text/x-python",
   "name": "python",
   "nbconvert_exporter": "python",
   "pygments_lexer": "ipython3",
   "version": "3.6.3"
  }
 },
 "nbformat": 4,
 "nbformat_minor": 2
}
