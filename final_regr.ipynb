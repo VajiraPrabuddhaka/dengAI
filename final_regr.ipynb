{
 "cells": [
  {
   "cell_type": "code",
   "execution_count": 87,
   "metadata": {},
   "outputs": [],
   "source": [
    "import datetime\n",
    "import scipy as sp\n",
    "import numpy as np\n",
    "import matplotlib as mpl\n",
    "import matplotlib.pyplot as plt\n",
    "import seaborn as sns\n",
    "import pandas as pd\n",
    "import statsmodels as stats\n",
    "from sklearn.model_selection import train_test_split\n",
    "from sklearn import datasets, linear_model\n",
    "from sklearn.metrics import mean_absolute_error, r2_score\n",
    "from sklearn.preprocessing import PolynomialFeatures\n",
    "%matplotlib inline\n",
    "#%run /home/vajira/PycharmProjects/dengAI/notebooks/myutil_regr.py\n",
    "from sklearn.svm import SVR\n",
    "from statsmodels.discrete.discrete_model import NegativeBinomial\n",
    "import importlib\n",
    "from sklearn.preprocessing import MinMaxScaler"
   ]
  },
  {
   "cell_type": "markdown",
   "metadata": {},
   "source": [
    "Get data and take first look at dataset"
   ]
  },
  {
   "cell_type": "code",
   "execution_count": 88,
   "metadata": {},
   "outputs": [],
   "source": [
    "def get_indexed_dataset(path):\n",
    "    df = pd.read_csv(path)\n",
    "    return set_index(df)\n",
    "\n",
    "def set_index(df):\n",
    "    df['yearweekofyear'] = df[['year','weekofyear']].\\\n",
    "                           apply(lambda x: str(x[0]) + str(x[1]).zfill(2), axis=1)\n",
    "    df.set_index('yearweekofyear', inplace=True)\n",
    "    return df"
   ]
  },
  {
   "cell_type": "code",
   "execution_count": 89,
   "metadata": {},
   "outputs": [],
   "source": [
    "dfx_train = get_indexed_dataset('data/dengue_features_train.csv')\n",
    "dfx_train = dfx_train[503:]\n",
    "dfy_train = get_indexed_dataset('data/dengue_labels_train.csv')\n",
    "dfx_test = get_indexed_dataset('data/dengue_features_test.csv')\n",
    "# combine training features with training labels for data exploration later on\n",
    "dftrain = set_index(pd.merge(dfx_train, dfy_train))\n",
    "#dftrain.head()"
   ]
  },
  {
   "cell_type": "markdown",
   "metadata": {},
   "source": [
    "Deal with NaN on both training and test datasets together"
   ]
  },
  {
   "cell_type": "code",
   "execution_count": 90,
   "metadata": {},
   "outputs": [],
   "source": [
    "#dftrain.dtypes\n",
    "#dftrain.isnull().sum()\n",
    "#dftest.isnull().sum()\n",
    "# Will stack the train and test datasets to treat all NaN values together\n",
    "# Need to add bogus total_cases column to test dataset so the files can be easily concatenated\n",
    "# update total_cases = -1 to easily identify the records for later split data to original partitions\n",
    "dfx_test['total_cases'] = -1\n",
    "dfall = set_index(pd.concat((dftrain, dfx_test), axis=0))\n",
    "dfall.sort_index(axis=0, inplace=True)\n",
    "#dfall.head()"
   ]
  },
  {
   "cell_type": "code",
   "execution_count": 91,
   "metadata": {},
   "outputs": [
    {
     "data": {
      "text/plain": [
       "city                                       0\nyear                                       0\nweekofyear                                 0\nweek_start_date                            0\nndvi_ne                                  123\nndvi_nw                                   28\nndvi_se                                    6\nndvi_sw                                    6\nprecipitation_amt_mm                       8\nreanalysis_air_temp_k                      8\nreanalysis_avg_temp_k                      8\nreanalysis_dew_point_temp_k                8\nreanalysis_max_air_temp_k                  8\nreanalysis_min_air_temp_k                  8\nreanalysis_precip_amt_kg_per_m2            8\nreanalysis_relative_humidity_percent       8\nreanalysis_sat_precip_amt_mm               8\nreanalysis_specific_humidity_g_per_kg      8\nreanalysis_tdtr_k                          8\nstation_avg_temp_c                        51\nstation_diur_temp_rng_c                   51\nstation_max_temp_c                        19\nstation_min_temp_c                        19\nstation_precip_mm                         23\ntotal_cases                                0\ndtype: int64"
      ]
     },
     "execution_count": 91,
     "metadata": {},
     "output_type": "execute_result"
    }
   ],
   "source": [
    "dfall.isnull().sum()"
   ]
  },
  {
   "cell_type": "code",
   "execution_count": 92,
   "metadata": {},
   "outputs": [],
   "source": [
    "def set_nan_to_week_mean(df_with_nans):\n",
    "\n",
    "    cityweek_mean = df_with_nans.groupby(['city','weekofyear']).mean().to_dict()\n",
    "    # here's how we'd retrive mean ndvi_ne for city of iquito, week 1\n",
    "    # cityweek_mean['ndvi_ne'][('iq',1)]  \n",
    "\n",
    "    df_clean = df_with_nans.copy()\n",
    "    \n",
    "    # row is index to row\n",
    "    # cols is series with series index = dataframe column name\n",
    "    #                     series value = dataframe column value \n",
    "    #\n",
    "    skip_columns = set(['city','weekofyear','week_start_date','total_cases'])\n",
    "\n",
    "    # process iquito first\n",
    "    where = df_with_nans['city'] == 'iq'\n",
    "    for (row, cols) in df_with_nans[where].iterrows():\n",
    "        for idx in cols.index:\n",
    "            if pd.isnull(cols[idx]):\n",
    "                 #print('In rows {}, found null for field {}'.format(row, idx))\n",
    "                 if idx not in skip_columns: \n",
    "                      # there are no values for weekofyear = 53\n",
    "                      week_of_year = min(52, cols['weekofyear'])\n",
    "                      df_clean.loc[row, idx] = cityweek_mean[idx][('iq', week_of_year)]\n",
    "\n",
    "    # process san juan\n",
    "    where = df_with_nans['city'] == 'sj'\n",
    "    for (row, cols) in df_with_nans[where].iterrows():\n",
    "        for idx in cols.index:\n",
    "            if pd.isnull(cols[idx]):\n",
    "                 #print('In rows {}, found null for field {}'.format(row, idx))\n",
    "                 if idx not in skip_columns: \n",
    "                      # there are no values for weekofyear = 53\n",
    "                      week_of_year = min(52, cols['weekofyear'])\n",
    "                      df_clean.loc[row, idx] = cityweek_mean[idx][('sj', week_of_year)]\n",
    "\n",
    "    return df_clean\n"
   ]
  },
  {
   "cell_type": "code",
   "execution_count": 93,
   "metadata": {},
   "outputs": [
    {
     "data": {
      "text/plain": [
       "city                                     0\nyear                                     0\nweekofyear                               0\nweek_start_date                          0\nndvi_ne                                  0\nndvi_nw                                  0\nndvi_se                                  0\nndvi_sw                                  0\nprecipitation_amt_mm                     0\nreanalysis_air_temp_k                    0\nreanalysis_avg_temp_k                    0\nreanalysis_dew_point_temp_k              0\nreanalysis_max_air_temp_k                0\nreanalysis_min_air_temp_k                0\nreanalysis_precip_amt_kg_per_m2          0\nreanalysis_relative_humidity_percent     0\nreanalysis_sat_precip_amt_mm             0\nreanalysis_specific_humidity_g_per_kg    0\nreanalysis_tdtr_k                        0\nstation_avg_temp_c                       0\nstation_diur_temp_rng_c                  0\nstation_max_temp_c                       0\nstation_min_temp_c                       0\nstation_precip_mm                        0\ntotal_cases                              0\ndtype: int64"
      ]
     },
     "execution_count": 93,
     "metadata": {},
     "output_type": "execute_result"
    }
   ],
   "source": [
    "dfall = set_nan_to_week_mean(dfall.copy())\n",
    "dfall.isnull().sum()"
   ]
  },
  {
   "cell_type": "markdown",
   "metadata": {},
   "source": [
    "## Split dataset"
   ]
  },
  {
   "cell_type": "code",
   "execution_count": 94,
   "metadata": {},
   "outputs": [],
   "source": [
    "def split_dataset_by_city(df):\n",
    "    return df[df['city']=='iq'], df[df['city']=='sj']"
   ]
  },
  {
   "cell_type": "code",
   "execution_count": 95,
   "metadata": {
    "collapsed": true
   },
   "outputs": [],
   "source": [
    "dfall_iq, dfall_sj = split_dataset_by_city(dfall)"
   ]
  },
  {
   "cell_type": "markdown",
   "metadata": {},
   "source": [
    "## Continue preprosessing"
   ]
  },
  {
   "cell_type": "code",
   "execution_count": 96,
   "metadata": {
    "collapsed": true
   },
   "outputs": [],
   "source": [
    "# drop unnecessary columns\n",
    "def drop_columns(df):\n",
    "    df.drop(['city','year','week_start_date'], axis=1, inplace=True)\n",
    "    return df\n",
    "\n",
    "dfall_iq = drop_columns(dfall_iq.copy())\n",
    "dfall_sj = drop_columns(dfall_sj.copy())"
   ]
  },
  {
   "cell_type": "markdown",
   "metadata": {},
   "source": [
    "##Restore training and test partitions (now that NaNs have been properly filled)"
   ]
  },
  {
   "cell_type": "code",
   "execution_count": 97,
   "metadata": {
    "collapsed": true
   },
   "outputs": [],
   "source": [
    "dftrain_iq = dfall_iq[dfall_iq['total_cases']>0].copy()     # total_cases was set to -1 for test partition\n",
    "dftrain_sj = dfall_sj[dfall_sj['total_cases']>0].copy()     # total_cases was set to -1 for test partition\n",
    "\n",
    "dftest_iq = dfall_iq[dfall_iq['total_cases']<0].copy()\n",
    "dftest_sj = dfall_sj[dfall_sj['total_cases']<0].copy()\n",
    "dftest_iq.drop('total_cases', axis=1, inplace=True)\n",
    "dftest_sj.drop('total_cases', axis=1, inplace=True)"
   ]
  },
  {
   "cell_type": "code",
   "execution_count": 98,
   "metadata": {},
   "outputs": [],
   "source": [
    "\n",
    "# preprocess train data\n",
    "\n",
    "def preprocess(df, timesteps=1):\n",
    "\n",
    "    # step 4: split array into features (starting at col 5) and labels \n",
    "    X = df.values[:,:-1].astype('float32')\n",
    "    y = df.values[:,-1].reshape(X.shape[0],1)\n",
    "    \n",
    "    # step 5: normalize all features \n",
    "    scaler = MinMaxScaler(feature_range=(0,1))\n",
    "    X_scaled = scaler.fit_transform(X)\n",
    "\n",
    "    # shifts features one row at a time and pads them to the left of existing feature set\n",
    "    feature_count = X.shape[1]\n",
    "    X_scaled= X_scaled[:-1,:feature_count] \n",
    "    for i in range(1, timesteps):\n",
    "        leftadd = X_scaled[:-1,:feature_count] \n",
    "        X_scaled = np.concatenate((leftadd, X_scaled[1:,:]), axis=1)\n",
    "\n",
    "    return np.concatenate((X_scaled, y[timesteps:]), axis=1) \n",
    "\n",
    "# preprocess test data\n",
    "def preprocess_test(df_train, df_test, timesteps=1):\n",
    "\n",
    "    df_test_rowcount = df_test.shape[0]\n",
    "\n",
    "    # will append training data, which preceeds test data in time\n",
    "    # so we can create sequences using previous periods data for our predictions\n",
    "    # just like we did during training \n",
    "    Xtrain = df_train.values[:,:-1].astype('float32')\n",
    "\n",
    "    X = np.concatenate((Xtrain, df_test.values.astype('float32')), axis=0)\n",
    "    scaler = MinMaxScaler(feature_range=(0,1))\n",
    "    X_scaled = scaler.fit_transform(X)\n",
    "\n",
    "    # shifts features one row at a time and pads them to the left of existing feature set\n",
    "    feature_count = X.shape[1]\n",
    "    X_scaled= X_scaled[:-1,:feature_count] \n",
    "    for i in range(1, timesteps):\n",
    "        leftadd = X_scaled[:-1,:feature_count] \n",
    "        X_scaled = np.concatenate((leftadd, X_scaled[1:,:]), axis=1)\n",
    "#200jul116\n",
    "    return X_scaled[-df_test_rowcount:,:] "
   ]
  },
  {
   "cell_type": "code",
   "execution_count": 99,
   "metadata": {
    "collapsed": true,
    "scrolled": false
   },
   "outputs": [],
   "source": [
    "# split dataset into test and validation partitions\n",
    "def prep_regr_run(city_data):\n",
    "    \n",
    "    X = city_data[:,:-1]\n",
    "    y = city_data[:,-1]\n",
    "    \n",
    "    X_train, X_valid, y_train, y_valid = train_test_split(X, y, test_size=.33, random_state=42)\n",
    "    \n",
    "    return X_train, X_valid, y_train, y_valid\n",
    "    \n",
    "\n",
    "def regr_run(nptrain, poly_degree=1, exploring=False):\n",
    "    \n",
    "    # create partitions for training\n",
    "    X_train, X_valid, y_train, y_valid = prep_regr_run(nptrain)\n",
    "        \n",
    "    if poly_degree > 1:\n",
    "        poly = PolynomialFeatures(poly_degree, interaction_only=True)\n",
    "        X_train = poly.fit_transform(X_train)\n",
    "        X_valid = poly.fit_transform(X_valid)\n",
    "        \n",
    "    if exploring: print(X_train.shape, X_valid.shape, y_train.shape, y_valid.shape)\n",
    "    \n",
    "    # Create linear regression object\n",
    "    #regr = linear_model.LinearRegression()\n",
    "    #regr = linear_model.Ridge(alpha = .5)\n",
    "    #regr = linear_model.RidgeCV(alphas=[0.1, 1.0, 10.0])\n",
    "    #regr = linear_model.Lasso(alpha = .1)\n",
    "    #regr = linear_model.LassoLars(alpha = .1)\n",
    "    regr = linear_model.BayesianRidge()\n",
    "    #regr = SVR(kernel='rbf', C=1e3, gamma=0.1)\n",
    "    print(\"fuck\")\n",
    "    print(X_train.shape)\n",
    "    #regr = NegativeBinomial(y_train,X_train)\n",
    "\n",
    "    # Train the model using the training sets\n",
    "    regr.fit(X_train, y_train)\n",
    "    #regr.fit()\n",
    "\n",
    "    # Make predictions using the testing set\n",
    "    y_pred = regr.predict(X_valid)\n",
    "\n",
    "    # The coefficients\n",
    "    #print('Coefficients: \\n', regr.coef_)\n",
    "    # The mean squared error\n",
    "    print(\"Mean absolute error: %.2f\"\n",
    "          % mean_absolute_error(y_valid, y_pred))\n",
    "    # Explained variance score: 1 is perfect prediction\n",
    "    print('Variance score: %.2f' % r2_score(y_valid, y_pred))\n",
    "    \n",
    "    return regr\n",
    "\n",
    "# Get test dataset, create predictions and save them in the proper submission file format\n",
    "def regr_predict_and_save(df_iq, model_iq, ts_iq, df_sj, model_sj, ts_sj, dftest_iq, dftest_sj, filename):\n",
    "  \n",
    "    nptest_iq = preprocess_test(df_iq.copy(), dftest_iq, ts_iq)\n",
    "    nptest_sj = preprocess_test(df_sj.copy(), dftest_sj, ts_sj)\n",
    "\n",
    "    yhat_iq = model_iq.predict(nptest_iq)\n",
    "    yhat_sj = model_sj.predict(nptest_sj)\n",
    "    \n",
    "    yhat_iq = yhat_iq.reshape(156,1)\n",
    "    yhat_sj = yhat_sj.reshape(260,1)\n",
    "    \n",
    "    print(yhat_iq.shape)\n",
    "    print(yhat_sj.shape)\n",
    "\n",
    "    dfsubm = pd.read_csv('data/submission_format.csv')\n",
    "    npsubm_sj = np.concatenate((dfsubm[dfsubm['city']=='sj'][['city','year','weekofyear']].values, \\\n",
    "                                yhat_sj.round().astype('int64')), axis=1)\n",
    "    npsubm_iq = np.concatenate((dfsubm[dfsubm['city']=='iq'][['city','year','weekofyear']].values, \\\n",
    "                                yhat_iq.round().astype('int64')), axis=1)\n",
    "    dfresults = pd.DataFrame(np.concatenate((npsubm_sj, npsubm_iq), axis=0), columns=dfsubm.columns)\n",
    "    \n",
    "    dfresults['total_cases'] = dfresults['total_cases'].clip(lower=0)\n",
    "    \n",
    "    dfresults.to_csv(filename, index=False)\n",
    "    "
   ]
  },
  {
   "cell_type": "code",
   "execution_count": 100,
   "metadata": {},
   "outputs": [
    {
     "name": "stdout",
     "output_type": "stream",
     "text": [
      "                weekofyear   ndvi_ne   ndvi_nw   ndvi_se   ndvi_sw  \\\nyearweekofyear                                                       \n200026                  26  0.192886  0.132257  0.340886  0.247200   \n200027                  27  0.216833  0.276100  0.289457  0.241657   \n200028                  28  0.176757  0.173129  0.204114  0.128014   \n200029                  29  0.227729  0.145429  0.254200  0.200314   \n200030                  30  0.328643  0.322129  0.254371  0.361043   \n200031                  31  0.205529  0.190757  0.231671  0.255314   \n200032                  32  0.312486  0.329986  0.380586  0.387271   \n200033                  33  0.384133  0.392240  0.341780  0.382750   \n200034                  34  0.408157  0.322157  0.406714  0.302714   \n200035                  35  0.086029  0.321057  0.314614  0.324257   \n200036                  36  0.295586  0.295683  0.312214  0.265929   \n200037                  37  0.284657  0.309757  0.387883  0.328157   \n200038                  38  0.348814  0.295717  0.404843  0.242571   \n200039                  39 -0.005692  0.099483  0.225714  0.182786   \n200040                  40  0.337540  0.276943  0.277500  0.255050   \n200041                  41  0.223533  0.133914  0.349800  0.100917   \n200042                  42  0.274800  0.187057  0.373943  0.279471   \n200043                  43  0.367300  0.305550  0.455380  0.325800   \n200044                  44  0.295100  0.211520  0.304400  0.279617   \n200045                  45  0.271367  0.151567  0.347250  0.231867   \n200046                  46  0.099933  0.035860  0.195486  0.064183   \n200047                  47  0.033410  0.289300  0.300983  0.170917   \n200048                  48  0.251971  0.253800  0.323514  0.319100   \n200049                  49  0.165833  0.182414  0.254567  0.186250   \n200050                  50  0.338786  0.316829  0.350343  0.297700   \n200051                  51  0.265014  0.169057  0.234867  0.302243   \n200101                   1  0.254714  0.228529  0.250586  0.287000   \n200102                   2  0.302133  0.203517  0.267433  0.274000   \n200103                   3 -0.000020  0.103317  0.258243  0.176729   \n200104                   4  0.237600  0.191267  0.125857  0.231443   \n...                    ...       ...       ...       ...       ...   \n201249                  49  0.031871  0.354980  0.325817  0.281133   \n201250                  50  0.130650  0.265457  0.223043  0.136517   \n201251                  51  0.256983  0.223471  0.233883  0.253100   \n201252                  52  0.192600  0.241100  0.224662  0.184850   \n201301                   1  0.255829  0.268657  0.268414  0.244471   \n201302                   2  0.188229  0.139143  0.252729  0.170586   \n201303                   3  0.252200  0.184743  0.241700  0.233014   \n201304                   4  0.183729  0.127057  0.165986  0.163729   \n201305                   5  0.368857  0.375329  0.336871  0.418014   \n201306                   6  0.274957  0.270914  0.293043  0.294400   \n201307                   7  0.267029  0.190729  0.279186  0.282186   \n201308                   8  0.297967  0.327750  0.244357  0.308671   \n201309                   9  0.345517  0.346867  0.337117  0.382550   \n201310                  10  0.030998  0.309857  0.254686  0.263729   \n201311                  11  0.223671  0.119450  0.224800  0.228371   \n201312                  12  0.231800  0.195583  0.204786  0.250186   \n201313                  13  0.263429  0.210614  0.269414  0.245871   \n201314                  14  0.223543  0.208543  0.239971  0.218557   \n201315                  15  0.263200  0.237400  0.250143  0.199114   \n201316                  16  0.309029  0.270267  0.235500  0.259686   \n201317                  17  0.193314  0.247057  0.275643  0.372729   \n201318                  18  0.385143  0.369700  0.375933  0.354214   \n201319                  19  0.396343  0.292471  0.333400  0.352271   \n201320                  20  0.352557  0.281050  0.307071  0.277400   \n201321                  21  0.236829  0.293857  0.223443  0.299429   \n201322                  22  0.301471  0.380029  0.280629  0.383186   \n201323                  23  0.247600  0.296343  0.285371  0.350357   \n201324                  24  0.238729  0.251029  0.252586  0.249771   \n201325                  25  0.310429  0.302700  0.406614  0.403943   \n201326                  26  0.339467  0.240071  0.356943  0.273600   \n\n                precipitation_amt_mm  reanalysis_air_temp_k  \\\nyearweekofyear                                                \n200026                         25.41             296.740000   \n200027                         60.61             296.634286   \n200028                         55.52             296.415714   \n200029                          5.60             295.357143   \n200030                         62.76             296.432857   \n200031                         16.24             297.191429   \n200032                         89.37             297.320000   \n200033                         42.08             297.627143   \n200034                         49.22             298.238571   \n200035                         53.65             299.218571   \n200036                         23.12             300.802857   \n200037                         34.62             299.858571   \n200038                         97.55             297.435714   \n200039                         95.89             299.355714   \n200040                         46.22             298.372857   \n200041                         31.10             298.474286   \n200042                         25.21             299.211429   \n200043                         49.25             299.541429   \n200044                         67.64             299.440000   \n200045                         51.83             300.748571   \n200046                         39.25             301.637143   \n200047                         55.91             300.872857   \n200048                         20.65             299.230000   \n200049                         24.53             300.242857   \n200050                        111.06             298.757143   \n200051                          3.90             300.411429   \n200101                         59.11             297.958571   \n200102                         69.85             298.044286   \n200103                        149.71             298.368571   \n200104                         50.02             295.722857   \n...                              ...                    ...   \n201249                         35.15             299.160000   \n201250                        102.24             298.665714   \n201251                         50.42             298.612857   \n201252                         83.53             298.224286   \n201301                         35.33             298.007143   \n201302                         33.14             296.241429   \n201303                         44.02             296.971429   \n201304                         97.26             297.698571   \n201305                         43.53             297.625714   \n201306                         97.80             298.005714   \n201307                        129.23             297.817143   \n201308                         66.47             297.747143   \n201309                         39.19             297.000000   \n201310                        111.09             296.958571   \n201311                         27.21             297.935714   \n201312                         76.86             298.188571   \n201313                        104.47             298.327143   \n201314                        122.60             297.621429   \n201315                         88.07             297.754286   \n201316                         44.30             298.647143   \n201317                         71.07             297.202857   \n201318                          2.28             297.981429   \n201319                         62.52             298.310000   \n201320                         46.27             297.367143   \n201321                         87.29             296.880000   \n201322                         41.12             297.774286   \n201323                         71.52             297.167143   \n201324                         78.96             295.831429   \n201325                         39.54             295.778571   \n201326                         51.80             297.372857   \n\n                reanalysis_avg_temp_k  reanalysis_dew_point_temp_k  \\\nyearweekofyear                                                       \n200026                     298.450000                   295.184286   \n200027                     298.428571                   295.358571   \n200028                     297.392857                   295.622857   \n200029                     296.228571                   292.797143   \n200030                     297.635714                   293.957143   \n200031                     298.285714                   291.725714   \n200032                     298.978571                   293.821429   \n200033                     299.335714                   293.992857   \n200034                     299.571429                   292.904286   \n200035                     300.928571                   293.472857   \n200036                     301.935714                   290.635714   \n200037                     301.371429                   293.640000   \n200038                     298.514286                   292.707143   \n200039                     300.885714                   293.217143   \n200040                     300.500000                   294.664286   \n200041                     300.285714                   294.592857   \n200042                     301.150000                   294.007143   \n200043                     301.100000                   294.708571   \n200044                     300.821429                   295.274286   \n200045                     301.807143                   295.280000   \n200046                     302.614286                   294.232857   \n200047                     301.914286                   293.060000   \n200048                     301.264286                   294.717143   \n200049                     301.028571                   293.305714   \n200050                     300.342857                   294.520000   \n200051                     302.000000                   291.092857   \n200101                     298.985714                   296.990000   \n200102                     299.414286                   294.345714   \n200103                     300.235714                   295.061429   \n200104                     296.671429                   294.594286   \n...                               ...                          ...   \n201249                     300.528571                   296.494286   \n201250                     299.914286                   297.082857   \n201251                     299.771429                   297.228571   \n201252                     299.771429                   296.870000   \n201301                     298.771429                   296.598571   \n201302                     297.400000                   295.275714   \n201303                     298.021429                   295.312857   \n201304                     298.964286                   296.708571   \n201305                     298.571429                   296.045714   \n201306                     299.678571                   296.985714   \n201307                     298.992857                   296.377143   \n201308                     298.942857                   296.782857   \n201309                     298.707143                   296.245714   \n201310                     298.064286                   296.470000   \n201311                     299.621429                   297.038571   \n201312                     299.407143                   297.562857   \n201313                     299.885714                   297.141429   \n201314                     299.157143                   296.518571   \n201315                     299.485714                   296.300000   \n201316                     299.778571                   296.885714   \n201317                     297.928571                   296.561429   \n201318                     299.200000                   293.228571   \n201319                     299.792857                   296.792857   \n201320                     298.157143                   296.435714   \n201321                     297.792857                   295.850000   \n201322                     298.964286                   295.638571   \n201323                     298.328571                   295.845714   \n201324                     296.607143                   294.894286   \n201325                     297.400000                   293.648571   \n201326                     299.000000                   294.615714   \n\n                reanalysis_max_air_temp_k     ...       \\\nyearweekofyear                                ...        \n200026                              307.3     ...        \n200027                              306.6     ...        \n200028                              304.5     ...        \n200029                              303.6     ...        \n200030                              307.0     ...        \n200031                              306.2     ...        \n200032                              308.8     ...        \n200033                              307.9     ...        \n200034                              310.1     ...        \n200035                              310.5     ...        \n200036                              312.8     ...        \n200037                              310.7     ...        \n200038                              310.2     ...        \n200039                              310.8     ...        \n200040                              309.8     ...        \n200041                              309.2     ...        \n200042                              311.8     ...        \n200043                              310.2     ...        \n200044                              312.2     ...        \n200045                              310.4     ...        \n200046                              311.8     ...        \n200047                              311.1     ...        \n200048                              310.0     ...        \n200049                              312.2     ...        \n200050                              311.4     ...        \n200051                              311.2     ...        \n200101                              305.5     ...        \n200102                              309.8     ...        \n200103                              308.7     ...        \n200104                              301.8     ...        \n...                                   ...     ...        \n201249                              307.1     ...        \n201250                              306.5     ...        \n201251                              305.8     ...        \n201252                              305.5     ...        \n201301                              303.9     ...        \n201302                              306.7     ...        \n201303                              306.8     ...        \n201304                              306.9     ...        \n201305                              307.4     ...        \n201306                              307.1     ...        \n201307                              305.3     ...        \n201308                              305.5     ...        \n201309                              305.9     ...        \n201310                              303.7     ...        \n201311                              305.4     ...        \n201312                              305.3     ...        \n201313                              307.5     ...        \n201314                              305.3     ...        \n201315                              307.9     ...        \n201316                              309.5     ...        \n201317                              304.0     ...        \n201318                              308.6     ...        \n201319                              307.8     ...        \n201320                              304.0     ...        \n201321                              305.8     ...        \n201322                              305.5     ...        \n201323                              306.3     ...        \n201324                              304.6     ...        \n201325                              305.9     ...        \n201326                              307.3     ...        \n\n                reanalysis_relative_humidity_percent  \\\nyearweekofyear                                         \n200026                                     92.418571   \n200027                                     93.581429   \n200028                                     95.848571   \n200029                                     87.234286   \n200030                                     88.161429   \n200031                                     74.728571   \n200032                                     83.275714   \n200033                                     82.490000   \n200034                                     74.740000   \n200035                                     74.151429   \n200036                                     57.787143   \n200037                                     71.660000   \n200038                                     77.487143   \n200039                                     71.462857   \n200040                                     82.371429   \n200041                                     81.522857   \n200042                                     75.540000   \n200043                                     76.941429   \n200044                                     79.428571   \n200045                                     74.802857   \n200046                                     67.185714   \n200047                                     66.042857   \n200048                                     78.885714   \n200049                                     68.557143   \n200050                                     80.408571   \n200051                                     60.641429   \n200101                                     94.955714   \n200102                                     82.347143   \n200103                                     84.175714   \n200104                                     94.057143   \n...                                              ...   \n201249                                     87.357143   \n201250                                     92.022857   \n201251                                     92.920000   \n201252                                     93.264286   \n201301                                     92.862857   \n201302                                     95.232857   \n201303                                     91.802857   \n201304                                     94.872857   \n201305                                     92.512857   \n201306                                     94.752857   \n201307                                     92.905714   \n201308                                     95.311429   \n201309                                     96.022857   \n201310                                     97.478571   \n201311                                     95.540000   \n201312                                     96.748571   \n201313                                     94.218571   \n201314                                     94.630000   \n201315                                     93.091429   \n201316                                     91.862857   \n201317                                     96.580000   \n201318                                     77.757143   \n201319                                     92.250000   \n201320                                     95.338571   \n201321                                     94.740000   \n201322                                     89.990000   \n201323                                     93.891429   \n201324                                     94.967143   \n201325                                     89.057143   \n201326                                     87.030000   \n\n                reanalysis_sat_precip_amt_mm  \\\nyearweekofyear                                 \n200026                                 25.41   \n200027                                 60.61   \n200028                                 55.52   \n200029                                  5.60   \n200030                                 62.76   \n200031                                 16.24   \n200032                                 89.37   \n200033                                 42.08   \n200034                                 49.22   \n200035                                 53.65   \n200036                                 23.12   \n200037                                 34.62   \n200038                                 97.55   \n200039                                 95.89   \n200040                                 46.22   \n200041                                 31.10   \n200042                                 25.21   \n200043                                 49.25   \n200044                                 67.64   \n200045                                 51.83   \n200046                                 39.25   \n200047                                 55.91   \n200048                                 20.65   \n200049                                 24.53   \n200050                                111.06   \n200051                                  3.90   \n200101                                 59.11   \n200102                                 69.85   \n200103                                149.71   \n200104                                 50.02   \n...                                      ...   \n201249                                 35.15   \n201250                                102.24   \n201251                                 50.42   \n201252                                 83.53   \n201301                                 35.33   \n201302                                 33.14   \n201303                                 44.02   \n201304                                 97.26   \n201305                                 43.53   \n201306                                 97.80   \n201307                                129.23   \n201308                                 66.47   \n201309                                 39.19   \n201310                                111.09   \n201311                                 27.21   \n201312                                 76.86   \n201313                                104.47   \n201314                                122.60   \n201315                                 88.07   \n201316                                 44.30   \n201317                                 71.07   \n201318                                  2.28   \n201319                                 62.52   \n201320                                 46.27   \n201321                                 87.29   \n201322                                 41.12   \n201323                                 71.52   \n201324                                 78.96   \n201325                                 39.54   \n201326                                 51.80   \n\n                reanalysis_specific_humidity_g_per_kg  reanalysis_tdtr_k  \\\nyearweekofyear                                                             \n200026                                      16.651429           8.928571   \n200027                                      16.862857          10.314286   \n200028                                      17.120000           7.385714   \n200029                                      14.431429           9.114286   \n200030                                      15.444286           9.500000   \n200031                                      13.421429          13.771429   \n200032                                      15.311429          11.471429   \n200033                                      15.465714          13.700000   \n200034                                      14.444286          13.771429   \n200035                                      15.057143          12.457143   \n200036                                      12.652857          14.900000   \n200037                                      15.227143          13.857143   \n200038                                      14.338571          11.314286   \n200039                                      14.798571          14.942857   \n200040                                      16.148571          11.971429   \n200041                                      16.071429          13.485714   \n200042                                      15.528571          14.928571   \n200043                                      16.195714          13.457143   \n200044                                      16.868571          13.328571   \n200045                                      16.847143          12.871429   \n200046                                      15.880000          13.371429   \n200047                                      14.768571          13.142857   \n200048                                      16.244286          12.014286   \n200049                                      14.900000          15.457143   \n200050                                      16.098571          11.971429   \n200051                                      13.188571          13.000000   \n200101                                      18.672857           6.942857   \n200102                                      15.858571          11.085714   \n200103                                      16.600000          11.014286   \n200104                                      16.071429           5.628571   \n...                                               ...                ...   \n201249                                      18.201429          10.171429   \n201250                                      18.844286           9.285714   \n201251                                      19.028571           8.600000   \n201252                                      18.581429           8.171429   \n201301                                      18.262857           6.628571   \n201302                                      16.788571           6.571429   \n201303                                      16.902857           7.528571   \n201304                                      18.391429           8.214286   \n201305                                      17.618571           7.600000   \n201306                                      18.724286           9.528571   \n201307                                      18.040000           7.785714   \n201308                                      18.465714           6.914286   \n201309                                      17.891429           7.700000   \n201310                                      18.120000           6.185714   \n201311                                      18.754286           8.328571   \n201312                                      19.377143           7.128571   \n201313                                      18.892857           8.942857   \n201314                                      18.148571           8.000000   \n201315                                      17.910000           9.400000   \n201316                                      18.632857           8.357143   \n201317                                      18.180000           7.200000   \n201318                                      14.852857          14.285714   \n201319                                      18.478571           9.671429   \n201320                                      18.038571           6.400000   \n201321                                      17.382857           6.700000   \n201322                                      17.185714          10.100000   \n201323                                      17.448571           9.657143   \n201324                                      16.410000           7.385714   \n201325                                      15.137143           8.228571   \n201326                                      16.148571          11.542857   \n\n                station_avg_temp_c  station_diur_temp_rng_c  \\\nyearweekofyear                                                \n200026                   26.400000                10.775000   \n200027                   26.900000                11.566667   \n200028                   26.800000                11.466667   \n200029                   25.766667                10.533333   \n200030                   26.600000                11.480000   \n200031                   25.340000                10.940000   \n200032                   27.016667                11.650000   \n200033                   26.583333                10.316667   \n200034                   26.900000                13.400000   \n200035                   27.116667                12.266667   \n200036                   28.366667                12.900000   \n200037                   27.425000                12.775000   \n200038                   27.533333                12.566667   \n200039                   27.150000                12.175000   \n200040                   26.700000                11.675000   \n200041                   27.657143                11.300000   \n200042                   27.775000                12.275000   \n200043                   28.000000                12.466667   \n200044                   27.600000                12.333333   \n200045                   28.175000                12.250000   \n200046                   29.025000                13.100000   \n200047                   27.700000                11.350000   \n200048                   27.050000                11.575000   \n200049                   28.000000                12.000000   \n200050                   26.616667                 9.650000   \n200051                   28.200000                12.283333   \n200101                   27.333333                11.000000   \n200102                   27.000000                11.225000   \n200103                   27.050000                10.900000   \n200104                   25.716667                 9.433333   \n...                            ...                      ...   \n201249                   28.600000                11.200000   \n201250                   27.880000                10.500000   \n201251                   28.233333                10.066667   \n201252                   28.500000                11.000000   \n201301                   28.475000                10.450000   \n201302                   26.450000                 7.900000   \n201303                   26.700000                 7.466667   \n201304                   27.966667                10.033333   \n201305                   26.700000                 6.450000   \n201306                   28.350000                 9.050000   \n201307                   27.800000                 8.600000   \n201308                   27.120000                 9.240000   \n201309                   27.600000                 9.566667   \n201310                   27.733333                 9.533333   \n201311                   28.366667                10.533333   \n201312                   27.900000                 9.166667   \n201313                   28.150000                11.150000   \n201314                   28.700000                10.833333   \n201315                   27.633333                 9.533333   \n201316                   28.333333                10.000000   \n201317                   26.950000                 9.350000   \n201318                   27.250000                13.125000   \n201319                   28.450000                 9.850000   \n201320                   28.233333                 9.400000   \n201321                   26.633333                 8.900000   \n201322                   27.400000                 9.050000   \n201323                   27.520000                10.720000   \n201324                   27.200000                10.075000   \n201325                   26.700000                 8.480000   \n201326                   27.350000                 9.675000   \n\n                station_max_temp_c  station_min_temp_c  station_precip_mm  \\\nyearweekofyear                                                              \n200026                        32.5                20.7           3.000000   \n200027                        34.0                20.8          55.600000   \n200028                        33.0                20.7          38.100000   \n200029                        31.5                14.7          30.000000   \n200030                        33.3                19.1           4.000000   \n200031                        32.0                17.0          11.500000   \n200032                        34.0                19.9          72.900000   \n200033                        33.0                20.5          50.100000   \n200034                        34.0                19.0          89.200000   \n200035                        34.0                20.0          78.000000   \n200036                        35.8                21.7          56.900000   \n200037                        34.5                20.5          18.900000   \n200038                        36.0                20.5         104.200000   \n200039                        34.0                20.5          57.900000   \n200040                        34.0                20.0          63.000000   \n200041                        34.0                21.0           3.000000   \n200042                        36.0                21.0          45.200000   \n200043                        34.6                20.0          57.900000   \n200044                        35.5                21.1           7.100000   \n200045                        35.2                21.5          13.500000   \n200046                        36.4                21.7           0.000000   \n200047                        36.5                21.5          86.341667   \n200048                        34.2                21.0          19.000000   \n200049                        34.0                22.0           0.800000   \n200050                        33.8                21.0          67.200000   \n200051                        35.0                21.0           0.000000   \n200101                        33.3                21.8          38.900000   \n200102                        33.2                20.7          59.900000   \n200103                        33.0                20.5          52.000000   \n200104                        31.2                20.0         166.900000   \n...                            ...                 ...                ...   \n201249                        35.4                22.2          30.000000   \n201250                        34.6                21.0           3.000000   \n201251                        34.3                22.0          21.300000   \n201252                        34.0                22.2          57.200000   \n201301                        34.9                22.8          23.800000   \n201302                        31.2                21.2          86.800000   \n201303                        31.8                22.6          82.000000   \n201304                        33.6                22.5          36.800000   \n201305                        33.3                23.2          51.300000   \n201306                        33.4                22.4          15.000000   \n201307                        33.8                22.4          19.600000   \n201308                        33.0                21.7          33.300000   \n201309                        34.2                21.8         111.300000   \n201310                        34.2                22.6         149.900000   \n201311                        34.3                22.2          35.100000   \n201312                        34.9                22.8           0.000000   \n201313                        34.2                22.0          70.600000   \n201314                        34.8                21.8          36.800000   \n201315                        33.6                22.0          54.100000   \n201316                        34.2                22.4          53.600000   \n201317                        33.6                21.2          74.900000   \n201318                        35.0                18.2           8.900000   \n201319                        34.6                22.4           7.100000   \n201320                        34.1                21.4          38.600000   \n201321                        32.8                21.8          97.300000   \n201322                        32.6                21.8          33.000000   \n201323                        33.8                21.4          68.000000   \n201324                        32.6                21.6          93.200000   \n201325                        32.2                21.8          34.100000   \n201326                        32.6                22.0          14.900000   \n\n                total_cases  \nyearweekofyear               \n200026                    0  \n200027                    0  \n200028                    0  \n200029                    0  \n200030                    0  \n200031                    0  \n200032                    0  \n200033                    0  \n200034                    0  \n200035                    0  \n200036                    1  \n200037                    0  \n200038                    0  \n200039                    0  \n200040                    0  \n200041                    1  \n200042                    1  \n200043                    0  \n200044                    0  \n200045                    0  \n200046                    0  \n200047                    0  \n200048                    0  \n200049                    0  \n200050                    1  \n200051                    0  \n200101                    0  \n200102                    0  \n200103                    0  \n200104                    0  \n...                     ...  \n201249                   -1  \n201250                   -1  \n201251                   -1  \n201252                   -1  \n201301                   -1  \n201302                   -1  \n201303                   -1  \n201304                   -1  \n201305                   -1  \n201306                   -1  \n201307                   -1  \n201308                   -1  \n201309                   -1  \n201310                   -1  \n201311                   -1  \n201312                   -1  \n201313                   -1  \n201314                   -1  \n201315                   -1  \n201316                   -1  \n201317                   -1  \n201318                   -1  \n201319                   -1  \n201320                   -1  \n201321                   -1  \n201322                   -1  \n201323                   -1  \n201324                   -1  \n201325                   -1  \n201326                   -1  \n\n[676 rows x 22 columns]\n(276, 252) (136, 252) (276,) (136,)\nfuck\n(276, 252)\nMean absolute error: 5.57\nVariance score: -0.00\n"
     ]
    }
   ],
   "source": [
    "periods_iq = 12   # best 12\n",
    "degree_iq = 1     # best 1\n",
    "print (dfall_iq)\n",
    "nptrain_iq = preprocess(dftrain_iq.copy(), periods_iq)\n",
    "regr_iq = regr_run(nptrain_iq, degree_iq, exploring=True)"
   ]
  },
  {
   "cell_type": "code",
   "execution_count": 101,
   "metadata": {},
   "outputs": [
    {
     "name": "stdout",
     "output_type": "stream",
     "text": [
      "(119, 5250) (60, 5250) (119,) (60,)\nfuck\n(119, 5250)\n"
     ]
    },
    {
     "name": "stdout",
     "output_type": "stream",
     "text": [
      "Mean absolute error: 9.05\nVariance score: 0.82\n"
     ]
    }
   ],
   "source": [
    "periods_sj = 250   # best 250\n",
    "degree_sj = 1      # best 1\n",
    "nptrain_sj = preprocess(dftrain_sj.copy(), periods_sj)\n",
    "regr_sj = regr_run(nptrain_sj, degree_sj, exploring=True)"
   ]
  },
  {
   "cell_type": "markdown",
   "metadata": {},
   "source": [
    "##Get test dataset and create predictions"
   ]
  },
  {
   "cell_type": "code",
   "execution_count": 102,
   "metadata": {},
   "outputs": [
    {
     "name": "stdout",
     "output_type": "stream",
     "text": [
      "(156, 1)\n(260, 1)\n"
     ]
    }
   ],
   "source": [
    "regr_predict_and_save(dftrain_iq, regr_iq, periods_iq, dftrain_sj, regr_sj, periods_sj, dftest_iq, dftest_sj,\\\n",
    "                      datetime.datetime.now().strftime(\"%I:%M%p on %B %d, %Y\")+\".csv\")"
   ]
  },
  {
   "cell_type": "code",
   "execution_count": 103,
   "metadata": {
    "collapsed": true
   },
   "outputs": [],
   "source": []
  },
  {
   "cell_type": "code",
   "execution_count": null,
   "metadata": {},
   "outputs": [],
   "source": []
  }
 ],
 "metadata": {
  "kernelspec": {
   "display_name": "Python 3",
   "language": "python",
   "name": "python3"
  },
  "language_info": {
   "codemirror_mode": {
    "name": "ipython",
    "version": 3
   },
   "file_extension": ".py",
   "mimetype": "text/x-python",
   "name": "python",
   "nbconvert_exporter": "python",
   "pygments_lexer": "ipython3",
   "version": "3.6.3"
  }
 },
 "nbformat": 4,
 "nbformat_minor": 2
}
