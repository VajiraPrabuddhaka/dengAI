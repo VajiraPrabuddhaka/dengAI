{
 "cells": [
  {
   "cell_type": "markdown",
   "metadata": {},
   "source": [
    "#### importing the relevant packages and loading the data"
   ]
  },
  {
   "cell_type": "code",
   "execution_count": null,
   "metadata": {},
   "outputs": [],
   "source": [
    "import pandas as pd\n",
    "import numpy as np\n",
    "\n",
    "import matplotlib.pyplot as plt\n",
    "import seaborn as sns\n",
    "\n",
    "from sklearn.model_selection import train_test_split\n",
    "from sklearn.linear_model import LinearRegression\n",
    "from sklearn import linear_model\n",
    "\n",
    "from sklearn.metrics import mean_absolute_error\n",
    "from sklearn.metrics import median_absolute_error\n",
    "\n",
    "from sklearn.preprocessing import StandardScaler"
   ]
  },
  {
   "cell_type": "code",
   "execution_count": 117,
   "metadata": {},
   "outputs": [],
   "source": [
    "X = pd.read_csv(\"/media/vajira/0FD50F0F0FD50F0F/Sem7_Academic/Data Mining/dengAI/dengue_features_train.csv\")\n",
    "y = pd.read_csv(\"/media/vajira/0FD50F0F0FD50F0F/Sem7_Academic/Data Mining/dengAI/dengue_labels_train.csv\")\n",
    "pred_X = pd.read_csv(\"/media/vajira/0FD50F0F0FD50F0F/Sem7_Academic/Data Mining/dengAI/dengue_features_test.csv\")\n"
   ]
  },
  {
   "cell_type": "markdown",
   "metadata": {},
   "source": [
    "#### Pre Processing"
   ]
  },
  {
   "cell_type": "code",
   "execution_count": 118,
   "metadata": {},
   "outputs": [],
   "source": [
    "def extract_month(s):\n",
    "    return int(s[5:7])"
   ]
  },
  {
   "cell_type": "code",
   "execution_count": 119,
   "metadata": {},
   "outputs": [],
   "source": [
    "def pre_process(X, train = True):\n",
    "    \"\"\"\n",
    "    Extracts the month out of date and converts it to a one hot\n",
    "    Standardizes the numerical features\n",
    "    Converts the city column to a boolean feature\n",
    "    \"\"\"\n",
    "    # Converting the city column into a boolean, since we just have two cities\n",
    "    is_sj = X.city == 'sj'\n",
    "\n",
    "    #Extracting month from the date\n",
    "    months = X.week_start_date.apply(extract_month)\n",
    "\n",
    "    # Removing the dates info for now\n",
    "    X.drop(['city', 'year', 'weekofyear', 'week_start_date'], axis=1, inplace=True)\n",
    "    \n",
    "    if train:\n",
    "        # Dropping the rows with null values for now\n",
    "        X.dropna(inplace=True)\n",
    "    else:\n",
    "        X.fillna(0,inplace=True)\n",
    "\n",
    "    # Standardizing the data\n",
    "    scaler = StandardScaler()\n",
    "    X[X.columns] = scaler.fit_transform(X)\n",
    "\n",
    "    # Adding the city boolean column\n",
    "    X['is_sj'] = is_sj.loc[X.index]\n",
    "\n",
    "    sliced_months = months.loc[X.index]\n",
    "    # Month one hot features\n",
    "    month_features = pd.get_dummies(sliced_months)\n",
    "    X = X.join(month_features)\n",
    "\n",
    "    # Alternatively use months as a discrete feature\n",
    "    #X = X.join(sliced_months)\n",
    "    \n",
    "    return X"
   ]
  },
  {
   "cell_type": "code",
   "execution_count": 120,
   "metadata": {},
   "outputs": [],
   "source": [
    "X = pre_process(X)\n",
    "pred_X = pre_process(pred_X, False)"
   ]
  },
  {
   "cell_type": "code",
   "execution_count": 121,
   "metadata": {},
   "outputs": [],
   "source": [
    "# Selecting y values corresponding to the filtered X values\n",
    "y = y.total_cases.loc[X.index]"
   ]
  },
  {
   "cell_type": "markdown",
   "metadata": {},
   "source": [
    "**splitting the data to train and test : **\n",
    "Since this is timeseries data, we set the arguement shuffle to False"
   ]
  },
  {
   "cell_type": "code",
   "execution_count": 122,
   "metadata": {},
   "outputs": [],
   "source": [
    "X_train, X_test, Y_train, Y_test = train_test_split(X, y, shuffle = False)"
   ]
  },
  {
   "cell_type": "markdown",
   "metadata": {},
   "source": [
    "#### Random Model\n",
    "Let us see the performance when we predict the number of cases for any given week to be equal to the mean number of cases in the past"
   ]
  },
  {
   "cell_type": "code",
   "execution_count": 123,
   "metadata": {},
   "outputs": [],
   "source": [
    "y_p = np.full(len(Y_test), np.mean(Y_train))"
   ]
  },
  {
   "cell_type": "code",
   "execution_count": 124,
   "metadata": {},
   "outputs": [
    {
     "data": {
      "text/plain": [
       "18.120148312940305"
      ]
     },
     "execution_count": 124,
     "metadata": {},
     "output_type": "execute_result"
    }
   ],
   "source": [
    "mean_absolute_error(Y_test, y_p)"
   ]
  },
  {
   "cell_type": "markdown",
   "metadata": {},
   "source": [
    "> The performance on this random model is the first benchmark that we shall improve upon"
   ]
  },
  {
   "cell_type": "markdown",
   "metadata": {},
   "source": [
    "#### Baseline Model\n",
    "A simple linear regression implementation from scikit learn"
   ]
  },
  {
   "cell_type": "code",
   "execution_count": 135,
   "metadata": {
    "scrolled": true
   },
   "outputs": [
    {
     "name": "stdout",
     "output_type": "stream",
     "text": [
      "    city  year  weekofyear  total_cases\n0     sj  2008          18            0\n1     sj  2008          19            0\n2     sj  2008          20           11\n3     sj  2008          21            0\n4     sj  2008          22            0\n5     sj  2008          23            5\n6     sj  2008          24           11\n7     sj  2008          25           26\n8     sj  2008          26           29\n9     sj  2008          27           44\n10    sj  2008          28           28\n11    sj  2008          29           37\n12    sj  2008          30           53\n13    sj  2008          31           39\n14    sj  2008          32           74\n15    sj  2008          33           73\n16    sj  2008          34           71\n17    sj  2008          35           77\n18    sj  2008          36           89\n19    sj  2008          37           97\n20    sj  2008          38           80\n21    sj  2008          39           60\n22    sj  2008          40           77\n23    sj  2008          41           52\n24    sj  2008          42           55\n25    sj  2008          43           48\n26    sj  2008          44           34\n27    sj  2008          45           65\n28    sj  2008          46           47\n29    sj  2008          47           43\n..   ...   ...         ...          ...\n386   iq  2012          48           79\n387   iq  2012          49           40\n388   iq  2012          50           63\n389   iq  2012          51           63\n390   iq  2013           1           50\n391   iq  2013           2           21\n392   iq  2013           3           16\n393   iq  2013           4           57\n394   iq  2013           5           29\n395   iq  2013           6           52\n396   iq  2013           7           29\n397   iq  2013           8           45\n398   iq  2013           9           33\n399   iq  2013          10           31\n400   iq  2013          11           43\n401   iq  2013          12           55\n402   iq  2013          13           45\n403   iq  2013          14           28\n404   iq  2013          15           20\n405   iq  2013          16           31\n406   iq  2013          17           26\n407   iq  2013          18            0\n408   iq  2013          19           22\n409   iq  2013          20           17\n410   iq  2013          21            3\n411   iq  2013          22            0\n412   iq  2013          23           13\n413   iq  2013          24            0\n414   iq  2013          25            0\n415   iq  2013          26            0\n\n[416 rows x 4 columns]\n"
     ]
    }
   ],
   "source": [
    "lr = LinearRegression()\n",
    "\n",
    "lr.fit(X_train, Y_train)\n",
    "Y_pred = lr.predict(pred_X)\n",
    "Y_pred = Y_pred.clip(min=0)\n",
    "sub = pd.DataFrame()\n",
    "pred_X1 = pd.read_csv(\"/media/vajira/0FD50F0F0FD50F0F/Sem7_Academic/Data Mining/dengAI/dengue_features_test.csv\")\n",
    "sub = pred_X1[[\"city\", \"year\", \"weekofyear\"]]\n",
    "sub[\"total_cases\"] = (Y_pred.astype(int)).tolist()\n",
    "print ((sub))\n",
    "sub.to_csv(\"submission.csv\",index=False)\n",
    "#print (len(Y_pred.astype(int)))"
   ]
  },
  {
   "cell_type": "code",
   "execution_count": 94,
   "metadata": {},
   "outputs": [
    {
     "ename": "ValueError",
     "evalue": "Found input variables with inconsistent numbers of samples: [300, 416]",
     "traceback": [
      "\u001b[0;31m---------------------------------------------------------------------------\u001b[0m",
      "\u001b[0;31mValueError\u001b[0m                                Traceback (most recent call last)",
      "\u001b[0;32m<ipython-input-94-5256f7e73901>\u001b[0m in \u001b[0;36m<module>\u001b[0;34m()\u001b[0m\n\u001b[0;32m----> 1\u001b[0;31m \u001b[0mmean_absolute_error\u001b[0m\u001b[0;34m(\u001b[0m\u001b[0mY_test\u001b[0m\u001b[0;34m,\u001b[0m \u001b[0mY_pred\u001b[0m\u001b[0;34m)\u001b[0m\u001b[0;34m\u001b[0m\u001b[0m\n\u001b[0m",
      "\u001b[0;32m/usr/local/lib/python3.6/dist-packages/sklearn/metrics/regression.py\u001b[0m in \u001b[0;36mmean_absolute_error\u001b[0;34m(y_true, y_pred, sample_weight, multioutput)\u001b[0m\n\u001b[1;32m    168\u001b[0m     \"\"\"\n\u001b[1;32m    169\u001b[0m     y_type, y_true, y_pred, multioutput = _check_reg_targets(\n\u001b[0;32m--> 170\u001b[0;31m         y_true, y_pred, multioutput)\n\u001b[0m\u001b[1;32m    171\u001b[0m     output_errors = np.average(np.abs(y_pred - y_true),\n\u001b[1;32m    172\u001b[0m                                weights=sample_weight, axis=0)\n",
      "\u001b[0;32m/usr/local/lib/python3.6/dist-packages/sklearn/metrics/regression.py\u001b[0m in \u001b[0;36m_check_reg_targets\u001b[0;34m(y_true, y_pred, multioutput)\u001b[0m\n\u001b[1;32m     73\u001b[0m \u001b[0;34m\u001b[0m\u001b[0m\n\u001b[1;32m     74\u001b[0m     \"\"\"\n\u001b[0;32m---> 75\u001b[0;31m     \u001b[0mcheck_consistent_length\u001b[0m\u001b[0;34m(\u001b[0m\u001b[0my_true\u001b[0m\u001b[0;34m,\u001b[0m \u001b[0my_pred\u001b[0m\u001b[0;34m)\u001b[0m\u001b[0;34m\u001b[0m\u001b[0m\n\u001b[0m\u001b[1;32m     76\u001b[0m     \u001b[0my_true\u001b[0m \u001b[0;34m=\u001b[0m \u001b[0mcheck_array\u001b[0m\u001b[0;34m(\u001b[0m\u001b[0my_true\u001b[0m\u001b[0;34m,\u001b[0m \u001b[0mensure_2d\u001b[0m\u001b[0;34m=\u001b[0m\u001b[0;32mFalse\u001b[0m\u001b[0;34m)\u001b[0m\u001b[0;34m\u001b[0m\u001b[0m\n\u001b[1;32m     77\u001b[0m     \u001b[0my_pred\u001b[0m \u001b[0;34m=\u001b[0m \u001b[0mcheck_array\u001b[0m\u001b[0;34m(\u001b[0m\u001b[0my_pred\u001b[0m\u001b[0;34m,\u001b[0m \u001b[0mensure_2d\u001b[0m\u001b[0;34m=\u001b[0m\u001b[0;32mFalse\u001b[0m\u001b[0;34m)\u001b[0m\u001b[0;34m\u001b[0m\u001b[0m\n",
      "\u001b[0;32m/usr/local/lib/python3.6/dist-packages/sklearn/utils/validation.py\u001b[0m in \u001b[0;36mcheck_consistent_length\u001b[0;34m(*arrays)\u001b[0m\n\u001b[1;32m    202\u001b[0m     \u001b[0;32mif\u001b[0m \u001b[0mlen\u001b[0m\u001b[0;34m(\u001b[0m\u001b[0muniques\u001b[0m\u001b[0;34m)\u001b[0m \u001b[0;34m>\u001b[0m \u001b[0;36m1\u001b[0m\u001b[0;34m:\u001b[0m\u001b[0;34m\u001b[0m\u001b[0m\n\u001b[1;32m    203\u001b[0m         raise ValueError(\"Found input variables with inconsistent numbers of\"\n\u001b[0;32m--> 204\u001b[0;31m                          \" samples: %r\" % [int(l) for l in lengths])\n\u001b[0m\u001b[1;32m    205\u001b[0m \u001b[0;34m\u001b[0m\u001b[0m\n\u001b[1;32m    206\u001b[0m \u001b[0;34m\u001b[0m\u001b[0m\n",
      "\u001b[0;31mValueError\u001b[0m: Found input variables with inconsistent numbers of samples: [300, 416]"
     ],
     "output_type": "error"
    }
   ],
   "source": [
    "mean_absolute_error(Y_test, Y_pred)"
   ]
  },
  {
   "cell_type": "code",
   "execution_count": 12,
   "metadata": {
    "scrolled": true
   },
   "outputs": [
    {
     "data": {
      "image/png": "[encoded data removed]",
      "text/plain": [
       "<matplotlib.figure.Figure at 0x7f722408bf28>"
      ]
     },
     "metadata": {},
     "output_type": "display_data"
    }
   ],
   "source": [
    "plt.scatter(Y_test, Y_pred)\n",
    "plt.xlim(0, 50)\n",
    "plt.ylim(0, 50)\n",
    "plt.xlabel(\"actual number of cases\")\n",
    "plt.ylabel(\"Predicted dengue cases\")\n",
    "plt.show()"
   ]
  },
  {
   "cell_type": "markdown",
   "metadata": {},
   "source": [
    "> From the graph we can see that this model isn't really good when there isn't even a slightly linear relationship between the actual and predicted values\n",
    " - let us try some feature selection to improve upon this"
   ]
  },
  {
   "cell_type": "markdown",
   "metadata": {},
   "source": [
    "#### Recursive Feature Elimination"
   ]
  },
  {
   "cell_type": "code",
   "execution_count": 13,
   "metadata": {},
   "outputs": [
    {
     "data": {
      "text/plain": [
       "9.697064561092054"
      ]
     },
     "execution_count": 13,
     "metadata": {},
     "output_type": "execute_result"
    }
   ],
   "source": [
    "from sklearn.feature_selection import RFE\n",
    "\n",
    "# create a base classifier used to evaluate a subset of attributes\n",
    "model = LinearRegression()\n",
    "\n",
    "# create the RFE model and select n attributes\n",
    "rfe = RFE(model, 13)\n",
    "rfe = rfe.fit(X, y)\n",
    "X_Select = X.loc[:, rfe.support_]\n",
    "\n",
    "# Split based on the newly selected features and train and test again\n",
    "X_train, X_test, Y_train, Y_test = train_test_split(X_Select, y, shuffle = False)\n",
    "model.fit(X_train, Y_train)\n",
    "Y_pred = model.predict(X_test)\n",
    "\n",
    "mean_absolute_error(Y_test, Y_pred)"
   ]
  },
  {
   "cell_type": "markdown",
   "metadata": {},
   "source": [
    "> Eliminating some unnecessary features improves the accuracy, let us also try applying some regularization for further improvement!"
   ]
  },
  {
   "cell_type": "markdown",
   "metadata": {},
   "source": [
    "#### L1\n",
    "Linear Regression with L1 regularization"
   ]
  },
  {
   "cell_type": "code",
   "execution_count": 14,
   "metadata": {},
   "outputs": [
    {
     "data": {
      "text/plain": [
       "8.198567106905848"
      ]
     },
     "execution_count": 14,
     "metadata": {},
     "output_type": "execute_result"
    }
   ],
   "source": [
    "clf = linear_model.Lasso(alpha=0.5)\n",
    "clf.fit(X_train, Y_train)\n",
    "Y_pred = clf.predict(X_test)\n",
    "mean_absolute_error(Y_test, Y_pred)"
   ]
  },
  {
   "cell_type": "markdown",
   "metadata": {},
   "source": [
    "#### L2\n",
    "Linear Regression with L2 regularization"
   ]
  },
  {
   "cell_type": "code",
   "execution_count": 15,
   "metadata": {
    "scrolled": true
   },
   "outputs": [
    {
     "data": {
      "text/plain": [
       "7.969390105082307"
      ]
     },
     "execution_count": 15,
     "metadata": {},
     "output_type": "execute_result"
    }
   ],
   "source": [
    "clf = linear_model.Ridge(alpha = 44)\n",
    "clf.fit(X_train, Y_train)\n",
    "Y_pred = clf.predict(X_test)\n",
    "mean_absolute_error(Y_test, Y_pred)"
   ]
  },
  {
   "cell_type": "markdown",
   "metadata": {},
   "source": [
    "#### Conclusions : \n",
    " - A simple linear model is only slightly better than a random model\n",
    " - Recursive feature elimination helps improve the accuracy\n",
    " - Regularization helps address the overfitting.\n",
    " \n",
    "#### Next Steps :\n",
    " - Trying advanced ensemble models like the XGBoost\n",
    " - Improving the train - test distributions"
   ]
  }
 ],
 "metadata": {
  "kernelspec": {
   "display_name": "Python 3",
   "language": "python",
   "name": "python3"
  },
  "language_info": {
   "codemirror_mode": {
    "name": "ipython",
    "version": 3
   },
   "file_extension": ".py",
   "mimetype": "text/x-python",
   "name": "python",
   "nbconvert_exporter": "python",
   "pygments_lexer": "ipython3",
   "version": "3.6.4"
  }
 },
 "nbformat": 4,
 "nbformat_minor": 2
}
