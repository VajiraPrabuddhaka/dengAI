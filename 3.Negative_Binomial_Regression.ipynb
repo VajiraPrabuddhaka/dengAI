{
 "cells": [
  {
   "cell_type": "code",
   "execution_count": 5,
   "metadata": {},
   "outputs": [],
   "source": [
    "import pandas as pd\n",
    "import seaborn as sns\n",
    "import matplotlib.pyplot as plt\n",
    "\n",
    "%matplotlib inline"
   ]
  },
  {
   "cell_type": "code",
   "execution_count": 6,
   "metadata": {
    "scrolled": true
   },
   "outputs": [
    {
     "data": {
      "image/png": "[encoded data removed]",
      "text/plain": [
       "<matplotlib.figure.Figure at 0x7f1eefeb43c8>"
      ]
     },
     "metadata": {},
     "output_type": "display_data"
    }
   ],
   "source": [
    "y = pd.read_csv(\"/media/vajira/0FD50F0F0FD50F0F/Sem7_Academic/Data Mining/dengAI/dengue_labels_train.csv\")\n",
    "sns.distplot(y.total_cases)\n",
    "plt.show()"
   ]
  },
  {
   "cell_type": "markdown",
   "metadata": {},
   "source": [
    "> As is evident from the distribution of our y labels in the graph, we have a highly skewed distribution, that combined with the fact our labels are count variables, makes a very convincing case for using negative binomial regression!\n",
    "You can read more about negative binomial regression [here](http://www.mathematica-journal.com/2013/06/negative-binomial-regression/)"
   ]
  },
  {
   "cell_type": "markdown",
   "metadata": {},
   "source": [
    "### Modelling"
   ]
  },
  {
   "cell_type": "markdown",
   "metadata": {},
   "source": [
    "#### importing the relevant packages and loading the data\n",
    "In order to implement negative binomial regression, we use the go to statistical library for python, statsmodels!"
   ]
  },
  {
   "cell_type": "code",
   "execution_count": 7,
   "metadata": {},
   "outputs": [],
   "source": [
    "import statsmodels.api as sm\n",
    "\n",
    "from warnings import filterwarnings\n",
    "\n",
    "filterwarnings('ignore')\n",
    "\n",
    "from statsmodels.tools import eval_measures\n",
    "import statsmodels.formula.api as smf"
   ]
  },
  {
   "cell_type": "code",
   "execution_count": 8,
   "metadata": {},
   "outputs": [],
   "source": [
    "import numpy as np\n",
    "\n",
    "from sklearn.model_selection import train_test_split\n",
    "# from sklearn.feature_selection import RFE\n",
    "\n",
    "from sklearn.metrics import mean_absolute_error\n",
    "from sklearn.metrics import median_absolute_error\n",
    "from sklearn.model_selection import ParameterGrid\n",
    "from sklearn.model_selection import TimeSeriesSplit\n",
    "from sklearn.preprocessing import StandardScaler\n",
    "\n",
    "from scipy import stats\n",
    "\n",
    "from xgboost import XGBRegressor\n",
    "\n",
    "from sklearn.model_selection import cross_val_score\n",
    "from sklearn.metrics import make_scorer\n",
    "\n",
    "from sklearn.feature_selection import f_regression\n",
    "from sklearn.feature_selection import SelectKBest"
   ]
  },
  {
   "cell_type": "code",
   "execution_count": 9,
   "metadata": {
    "scrolled": true
   },
   "outputs": [],
   "source": [
    "from mlxtend.feature_selection import SequentialFeatureSelector as SFS"
   ]
  },
  {
   "cell_type": "markdown",
   "metadata": {},
   "source": [
    "#### Pre Processing"
   ]
  },
  {
   "cell_type": "code",
   "execution_count": 10,
   "metadata": {},
   "outputs": [],
   "source": [
    "def impute(X):\n",
    "    \n",
    "    # remove the colum that has ~20% null values, also ranks low on feature importance\n",
    "    X.drop(['ndvi_ne'], axis=1, inplace=True)\n",
    "    \n",
    "    # Filling the rest using linear interpolation\n",
    "    X.interpolate(inplace=True)\n",
    "\n",
    "def remove_outliers(df):\n",
    "    return df[(np.abs(stats.zscore(df)) < 5).all(axis=1)]\n",
    "\n",
    "def mape(Y_test, Y_pred, epsilon = 1):\n",
    "    return np.mean(np.abs((Y_test - Y_pred + epsilon) / (Y_test + epsilon))) * 100\n",
    "\n",
    "def extract_month(s):\n",
    "    return int(s[5:7])\n",
    "\n",
    "def city_indices(X):\n",
    "    # city boolean encoding\n",
    "    return X.city == 'sj'\n",
    "\n",
    "def pre_process(X, y, trees = False):\n",
    "    \"\"\"\n",
    "    Extracts the month out of date and converts it to a one hot\n",
    "    Standardizes the numerical features\n",
    "    \"\"\"\n",
    "    \n",
    "    #Extracting month from the date\n",
    "    months = X.week_start_date.apply(extract_month)\n",
    "    \n",
    "    #Response coding\n",
    "#     month = X.week_start_date.apply(extract_month)\n",
    "#     temp = pd.DataFrame(y.total_cases)\n",
    "#     temp['month'] = month\n",
    "#     for name,group in temp.groupby(month):\n",
    "#         month[group.index] = np.median(group.total_cases)\n",
    "        \n",
    "    # Removing the columns not required for classification\n",
    "    X.drop(['city', 'year', 'weekofyear', 'week_start_date'], axis=1, inplace=True)\n",
    "\n",
    "    # Standardizing the data\n",
    "    if not trees:\n",
    "        scaler = StandardScaler()\n",
    "        X[X.columns] = scaler.fit_transform(X)\n",
    "\n",
    "    # Month one hot features\n",
    "    month_features = pd.get_dummies(months, prefix='m_')\n",
    "    X = X.join(month_features)\n",
    "\n",
    "    #Alternatively use response coding \n",
    "#     X = X.join(month)\n",
    "    \n",
    "    return X\n",
    "\n",
    "def seperate_cities_data(X, is_sj):\n",
    "\n",
    "    # Seperating the cities data\n",
    "    X_sj = X.loc[is_sj]\n",
    "    X_iq = X.loc[~is_sj]\n",
    "    \n",
    "    return X_sj, X_iq\n",
    "\n",
    "def get_y_labels(X_sj, X_iq, y):    \n",
    "    \n",
    "    y = y.total_cases    \n",
    "    y_sj = y.loc[X_sj.index]\n",
    "    y_iq = y.loc[X_iq.index]\n",
    "    \n",
    "    return y_sj, y_iq\n",
    "\n",
    "def split(X_sj, X_iq, y_sj, y_iq):\n",
    "\n",
    "    # train and test split\n",
    "    sj_split_data = train_test_split(X_sj, y_sj, shuffle = False)\n",
    "    iq_split_data = train_test_split(X_iq, y_iq, shuffle = False)\n",
    "\n",
    "    return sj_split_data, iq_split_data\n",
    "\n",
    "def process(X, y = pd.Series(), train = True, trees = False, feature_selection = 0, time_shift = 0):\n",
    "    \n",
    "    is_sj = city_indices(X)\n",
    "    if not trees:\n",
    "        impute(X)\n",
    "    X = pre_process(X, y, trees)\n",
    "    \n",
    "    if feature_selection:\n",
    "        selector = SelectKBest(f_regression, k=feature_selection).fit(X,y.total_cases)\n",
    "        X = X.loc[:,selector.get_support()]\n",
    "\n",
    "    #X = remove_outliers(X)\n",
    "    X_sj, X_iq = seperate_cities_data(X, is_sj)\n",
    "    if y.empty:\n",
    "        return X_sj, X_iq\n",
    "    \n",
    "    y_sj, y_iq = get_y_labels(X_sj, X_iq, y)\n",
    "    if time_shift:\n",
    "        y_sj = y_sj.shift(time_shift).dropna()\n",
    "        y_iq = y_iq.shift(time_shift).dropna()\n",
    "        X_sj = X_sj[:-time_shift]\n",
    "        X_iq = X_iq[:-time_shift]\n",
    "        \n",
    "    if not train:\n",
    "        return X_sj, X_iq, y_sj, y_iq\n",
    "    \n",
    "    return split(X_sj, X_iq, y_sj, y_iq)"
   ]
  },
  {
   "cell_type": "code",
   "execution_count": 12,
   "metadata": {},
   "outputs": [],
   "source": [
    "X = pd.read_csv(\"/media/vajira/0FD50F0F0FD50F0F/Sem7_Academic/Data Mining/dengAI/dengue_features_train.csv\")\n",
    "data = process(X,y)\n",
    "\n",
    "(X_sj_train, X_sj_test, Y_sj_train, Y_sj_test), (X_iq_train, X_iq_test, Y_iq_train, Y_iq_test) = data"
   ]
  },
  {
   "cell_type": "markdown",
   "metadata": {},
   "source": [
    "#### Negative Binomial Regression"
   ]
  },
  {
   "cell_type": "code",
   "execution_count": 13,
   "metadata": {},
   "outputs": [],
   "source": [
    "formula = ' + '.join([str(i) for i in list(X_sj_train.columns)])\n",
    "formula = 'y ~ ' + formula"
   ]
  },
  {
   "cell_type": "markdown",
   "metadata": {},
   "source": [
    "> We first examine results seperately on the two cities"
   ]
  },
  {
   "cell_type": "markdown",
   "metadata": {},
   "source": [
    "#### The city of San Juan"
   ]
  },
  {
   "cell_type": "code",
   "execution_count": 19,
   "metadata": {},
   "outputs": [
    {
     "name": "stdout",
     "output_type": "stream",
     "text": [
      "      ndvi_nw   ndvi_se   ndvi_sw  precipitation_amt_mm  \\\n702 -1.067275 -1.470795 -1.364071              1.168702   \n703  0.298713 -0.886888 -0.924523              0.785077   \n704 -0.606574 -1.866210 -1.522569              1.181994   \n705 -0.944617 -1.016692 -0.802140              7.903910   \n706 -1.386481  0.458440  0.077812             -0.676090   \n707 -0.623109 -1.024504 -1.012159             -1.047340   \n708 -2.357911 -0.561945 -1.128550              3.142056   \n709 -1.510604  1.185482 -0.050560             -1.047340   \n710 -1.403435 -0.610019 -0.647219             -1.002423   \n711 -2.105896  0.279664 -0.304567             -1.024881   \n712 -0.926197  0.157254  0.245382             -1.047340   \n713 -1.048437  1.070689  1.053617             -0.220735   \n714 -2.565760 -2.964682 -2.296999             -1.047340   \n715 -1.974446  0.449142  0.939964             -1.047340   \n716 -1.479626  0.674015  0.179997             -1.047340   \n717 -0.876799  0.586467 -0.112693             -1.047340   \n718 -1.713221 -0.668246 -0.629779             -1.047340   \n719 -0.634622 -0.869489 -0.521432             -1.047340   \n720 -0.312486  0.236860  0.405077             -1.047340   \n721 -0.833680 -0.222763 -0.577060             -1.047340   \n722 -0.644529 -2.369800 -2.280824             -1.047340   \n723 -0.455379 -1.128451 -0.835061             -1.047340   \n724 -0.876171 -0.752501 -0.522117             -0.397652   \n725  0.112004  2.050172  0.864138             -1.047340   \n726 -0.934570 -0.086793 -0.238156             -0.915569   \n727 -1.464136  0.127812  0.839491             -0.506735   \n728 -1.821786 -1.895845 -0.558090              0.677827   \n729 -0.949815 -1.491132 -1.004400             -0.828027   \n730 -0.077844 -1.294765  0.097017             -0.685715   \n731 -0.566455 -1.186169 -0.864787              1.175348   \n..        ...       ...       ...                   ...   \n906 -0.862845 -0.241745 -1.009248              0.659952   \n907 -0.199456 -1.152468 -0.906037              1.433619   \n908  0.040558  0.580464 -0.146242             -0.644923   \n909 -1.146815 -0.161945 -0.306279             -0.669673   \n910 -0.615574 -0.627959 -0.939756              2.104848   \n911 -1.477114  0.027676 -0.348414             -0.697860   \n912 -1.593911  0.035424  0.006951             -0.084840   \n913 -1.506488  0.018379 -0.547278              0.634056   \n914 -1.419064 -1.521412 -0.873174             -0.681819   \n915 -1.424785 -1.457915 -1.353459             -0.638277   \n916 -1.451577 -0.700825 -0.704406             -0.330048   \n917 -1.396737 -0.402861 -0.620536              0.376015   \n918 -0.933733  0.056084 -0.687556             -1.047340   \n919 -3.662360  0.497371 -0.076749             -1.047340   \n920 -1.976539  1.726711  0.507091             -0.193923   \n921 -0.749536 -1.059304 -1.115712             -1.047340   \n922 -2.872825 -1.227232 -0.500208              0.813952   \n923 -2.203855  0.273467 -0.371663             -1.047340   \n924 -1.096998  0.402851  0.829221             -1.047340   \n925 -1.598516 -0.717637 -0.631320             -1.047340   \n926 -1.866160  0.582012  0.313505             -1.047340   \n927 -0.941100  0.115224 -1.013870             -1.047340   \n928 -1.824018  0.272693 -0.572439             -1.047340   \n929 -2.252416 -1.253960 -0.730252             -1.047340   \n930 -0.865496 -1.376178 -1.365441             -1.047340   \n931 -1.404272  1.455354  1.129614             -0.424235   \n932 -1.211144 -1.135618 -1.624411             -0.959798   \n933 -1.511860 -0.886341 -0.727855             -0.658673   \n934 -1.334431  0.010438  0.094416             -1.047340   \n935 -1.157002 -1.705836 -1.334460             -1.047340   \n\n     reanalysis_air_temp_k  reanalysis_avg_temp_k  \\\n702               1.658885               1.502092   \n703               1.077751               0.804786   \n704               0.997884               0.657388   \n705               0.275933              -0.056925   \n706               0.085725              -0.249676   \n707               0.301154               0.016774   \n708               0.350545              -0.028579   \n709              -0.104483              -0.487781   \n710               0.254916              -0.034249   \n711              -0.258437              -0.672028   \n712              -0.771789              -1.309808   \n713              -0.660396              -0.992336   \n714              -0.712940              -0.884622   \n715              -0.836943              -1.287132   \n716              -0.534291              -0.771239   \n717              -0.273674              -0.567149   \n718              -0.300997              -0.516127   \n719              -0.855859              -1.003674   \n720              -0.642531              -0.924306   \n721              -0.877927              -1.264455   \n722              -0.326218              -0.629510   \n723              -0.277878              -0.493450   \n724              -1.326651              -1.825701   \n725              -0.690872              -0.901629   \n726              -0.002549              -0.249676   \n727              -0.027770              -0.278022   \n728               0.269628               0.084804   \n729               0.288544              -0.011572   \n730               0.049995              -0.244007   \n731              -0.423949              -0.878953   \n..                     ...                    ...   \n906               1.710378               1.434062   \n907               1.539085               1.366033   \n908               2.056116               1.915941   \n909               1.698818               1.485085   \n910               0.559670               0.254878   \n911               1.402471               1.161943   \n912               0.909611               0.765102   \n913               0.826592               0.526998   \n914               0.288544              -0.022910   \n915               0.237051              -0.158970   \n916               0.148777              -0.198654   \n917              -0.021464              -0.368729   \n918              -0.069805              -0.374398   \n919              -0.484900              -0.873283   \n920              -0.408186              -0.788246   \n921              -0.787552              -1.071704   \n922              -0.536393              -0.867614   \n923              -0.497511              -0.827930   \n924              -1.074441              -1.542244   \n925              -0.632023              -1.043358   \n926              -0.581581              -0.924306   \n927              -0.685617              -0.912967   \n928              -0.602598              -0.963990   \n929              -0.810671              -1.253117   \n930              -0.951489              -1.417522   \n931              -1.279362              -1.797356   \n932              -0.453374              -0.788246   \n933              -0.910505              -1.315477   \n934              -0.785450              -1.145403   \n935              -0.018312              -0.419751   \n\n     reanalysis_dew_point_temp_k  reanalysis_max_air_temp_k  \\\n702                     0.922279                  -0.006237   \n703                     0.495234                  -0.222818   \n704                     0.931644                  -0.532220   \n705                     1.040279                  -0.841622   \n706                     0.337901                  -0.748801   \n707                    -0.285810                  -0.841622   \n708                    -0.139716                  -0.594100   \n709                    -0.165001                  -0.903502   \n710                    -0.143462                  -0.810682   \n711                    -1.012537                  -1.042733   \n712                    -1.881612                  -1.274785   \n713                    -0.884236                  -1.212904   \n714                    -1.035013                  -0.996323   \n715                    -1.551026                  -1.058203   \n716                    -1.119298                  -0.810682   \n717                    -1.131473                  -1.120084   \n718                    -1.294424                  -1.027263   \n719                    -1.065917                  -0.872562   \n720                    -1.048124                  -0.686921   \n721                    -2.005230                  -1.058203   \n722                    -0.651046                  -0.965383   \n723                    -0.841157                  -1.027263   \n724                    -1.286932                  -1.089143   \n725                    -1.259774                  -0.779742   \n726                    -0.597666                  -0.717861   \n727                    -1.351551                  -0.841622   \n728                    -0.128478                  -0.625041   \n729                    -0.566761                  -0.717861   \n730                     0.082236                  -0.655981   \n731                    -0.059176                  -1.058203   \n..                           ...                        ...   \n906                     0.916660                   0.024703   \n907                     1.043088                  -0.160938   \n908                     0.727487                   0.055643   \n909                     0.412821                  -0.191878   \n910                     0.508345                  -0.408459   \n911                     0.389409                  -0.253758   \n912                     0.258298                  -0.099057   \n913                     0.333219                  -0.501280   \n914                    -1.241044                  -0.841622   \n915                    -0.626697                  -0.810682   \n916                    -0.308286                  -0.779742   \n917                    -0.175303                  -0.934442   \n918                    -0.862696                  -0.810682   \n919                    -1.134282                  -1.089143   \n920                    -1.080902                  -1.058203   \n921                    -1.458312                  -1.027263   \n922                    -1.054679                  -1.212904   \n923                    -1.499519                  -0.841622   \n924                    -2.430403                  -1.274785   \n925                    -1.509820                  -1.274785   \n926                    -1.383392                  -1.181964   \n927                    -1.797327                  -1.089143   \n928                    -1.436773                  -1.089143   \n929                    -1.997738                  -1.212904   \n930                    -1.992119                  -1.120084   \n931                    -2.064230                  -1.151024   \n932                    -1.316900                  -1.120084   \n933                    -1.646550                  -1.243844   \n934                    -1.947167                  -1.151024   \n935                    -0.632316                  -0.779742   \n\n     reanalysis_min_air_temp_k  reanalysis_precip_amt_kg_per_m2  ...    m__3  \\\n702                   1.126431                        -0.532252  ...       0   \n703                   0.696430                        -0.097593  ...       0   \n704                   1.009158                         1.200381  ...       0   \n705                   0.774612                         3.270673  ...       0   \n706                   0.579157                        -0.032925  ...       0   \n707                   0.657339                        -0.689765  ...       0   \n708                   0.696430                         0.241913  ...       0   \n709                   0.461884                        -0.643111  ...       0   \n710                   0.579157                        -0.715632  ...       0   \n711                   0.364156                        -0.582139  ...       0   \n712                   0.149155                        -0.448646  ...       0   \n713                   0.305520                        -0.460194  ...       0   \n714                  -0.007209                        -0.901321  ...       0   \n715                   0.031882                        -0.880534  ...       0   \n716                  -0.046300                        -0.838962  ...       0   \n717                   0.618248                        -0.856515  ...       0   \n718                   0.579157                        -0.887463  ...       0   \n719                   0.031882                        -0.466661  ...       0   \n720                   0.110064                        -0.552577  ...       1   \n721                   0.110064                        -0.781916  ...       1   \n722                   0.110064                        -0.607775  ...       1   \n723                   0.618248                        -0.670364  ...       1   \n724                  -0.554483                         0.946330  ...       0   \n725                  -0.046300                        -0.672674  ...       0   \n726                   0.344611                        -0.866677  ...       0   \n727                   0.579157                        -0.608006  ...       0   \n728                   0.696430                        -0.652812  ...       0   \n729                   0.618248                        -0.451880  ...       0   \n730                   0.579157                        -0.074497  ...       0   \n731                   0.305520                         0.897829  ...       0   \n..                         ...                              ...  ...     ...   \n906                   1.321886                        -0.520243  ...       0   \n907                   1.400068                        -0.419084  ...       0   \n908                   1.439159                        -0.735032  ...       0   \n909                   1.282795                        -0.565048  ...       0   \n910                   0.774612                         3.106694  ...       0   \n911                   0.970067                        -0.688841  ...       0   \n912                   0.696430                        -0.432479  ...       0   \n913                   0.852794                         0.075624  ...       0   \n914                   0.618248                        -0.700851  ...       0   \n915                   0.540066                         0.643777  ...       0   \n916                   0.500975                         0.614214  ...       0   \n917                   0.188246                         0.240296  ...       0   \n918                  -0.085391                        -0.872220  ...       0   \n919                   0.344611                        -0.280279  ...       0   \n920                   0.227337                        -0.056944  ...       0   \n921                  -0.163573                        -0.832034  ...       0   \n922                   0.266428                        -0.299449  ...       0   \n923                  -0.554483                        -0.864368  ...       0   \n924                  -0.124482                        -0.471742  ...       0   \n925                   0.305520                        -0.691843  ...       0   \n926                   0.266428                        -0.735032  ...       0   \n927                   0.227337                        -0.777528  ...       0   \n928                  -0.085391                        -0.776604  ...       1   \n929                   0.149155                        -0.710089  ...       1   \n930                  -0.319937                        -0.905940  ...       1   \n931                  -0.515392                        -0.752354  ...       1   \n932                   0.305520                        -0.841965  ...       0   \n933                   0.031882                        -0.118379  ...       0   \n934                   0.070973                        -0.815405  ...       0   \n935                   0.070973                        -0.876608  ...       0   \n\n     m__4  m__5  m__6  m__7  m__8  m__9  m__10  m__11  m__12  \n702     0     0     0     0     0     0      1      0      0  \n703     0     0     0     0     0     0      0      1      0  \n704     0     0     0     0     0     0      0      1      0  \n705     0     0     0     0     0     0      0      1      0  \n706     0     0     0     0     0     0      0      1      0  \n707     0     0     0     0     0     0      0      0      1  \n708     0     0     0     0     0     0      0      0      1  \n709     0     0     0     0     0     0      0      0      1  \n710     0     0     0     0     0     0      0      0      1  \n711     0     0     0     0     0     0      0      0      0  \n712     0     0     0     0     0     0      0      0      0  \n713     0     0     0     0     0     0      0      0      0  \n714     0     0     0     0     0     0      0      0      0  \n715     0     0     0     0     0     0      0      0      0  \n716     0     0     0     0     0     0      0      0      0  \n717     0     0     0     0     0     0      0      0      0  \n718     0     0     0     0     0     0      0      0      0  \n719     0     0     0     0     0     0      0      0      0  \n720     0     0     0     0     0     0      0      0      0  \n721     0     0     0     0     0     0      0      0      0  \n722     0     0     0     0     0     0      0      0      0  \n723     0     0     0     0     0     0      0      0      0  \n724     1     0     0     0     0     0      0      0      0  \n725     1     0     0     0     0     0      0      0      0  \n726     1     0     0     0     0     0      0      0      0  \n727     1     0     0     0     0     0      0      0      0  \n728     1     0     0     0     0     0      0      0      0  \n729     0     1     0     0     0     0      0      0      0  \n730     0     1     0     0     0     0      0      0      0  \n731     0     1     0     0     0     0      0      0      0  \n..    ...   ...   ...   ...   ...   ...    ...    ...    ...  \n906     0     0     0     0     0     0      1      0      0  \n907     0     0     0     0     0     0      1      0      0  \n908     0     0     0     0     0     0      1      0      0  \n909     0     0     0     0     0     0      1      0      0  \n910     0     0     0     0     0     0      1      0      0  \n911     0     0     0     0     0     0      0      1      0  \n912     0     0     0     0     0     0      0      1      0  \n913     0     0     0     0     0     0      0      1      0  \n914     0     0     0     0     0     0      0      1      0  \n915     0     0     0     0     0     0      0      0      1  \n916     0     0     0     0     0     0      0      0      1  \n917     0     0     0     0     0     0      0      0      1  \n918     0     0     0     0     0     0      0      0      1  \n919     0     0     0     0     0     0      0      0      0  \n920     0     0     0     0     0     0      0      0      0  \n921     0     0     0     0     0     0      0      0      0  \n922     0     0     0     0     0     0      0      0      0  \n923     0     0     0     0     0     0      0      0      0  \n924     0     0     0     0     0     0      0      0      0  \n925     0     0     0     0     0     0      0      0      0  \n926     0     0     0     0     0     0      0      0      0  \n927     0     0     0     0     0     0      0      0      0  \n928     0     0     0     0     0     0      0      0      0  \n929     0     0     0     0     0     0      0      0      0  \n930     0     0     0     0     0     0      0      0      0  \n931     0     0     0     0     0     0      0      0      0  \n932     1     0     0     0     0     0      0      0      0  \n933     1     0     0     0     0     0      0      0      0  \n934     1     0     0     0     0     0      0      0      0  \n935     1     0     0     0     0     0      0      0      0  \n\n[234 rows x 31 columns]\ncv error: 22.60683760683761\ntrain error: 25.48005698005698\n"
     ]
    }
   ],
   "source": [
    "train_sj = X_sj_train.copy()\n",
    "train_sj['y'] = Y_sj_train\n",
    "test_sj = X_sj_test.copy()\n",
    "\n",
    "model = smf.glm(formula=formula,\n",
    "                data=train_sj,\n",
    "                family=sm.families.NegativeBinomial())\n",
    "model = model.fit()\n",
    "\n",
    "predictions_sj = model.predict(test_sj).astype(int)\n",
    "print (test_sj)\n",
    "\n",
    "print (\"cv error:\", mean_absolute_error(predictions_sj, Y_sj_test))\n",
    "\n",
    "pred_train_sj = model.predict(train_sj).astype(int)\n",
    "print (\"train error:\", mean_absolute_error(pred_train_sj, Y_sj_train))"
   ]
  },
  {
   "cell_type": "markdown",
   "metadata": {},
   "source": [
    "#### The city of iquitos"
   ]
  },
  {
   "cell_type": "code",
   "execution_count": 10,
   "metadata": {
    "scrolled": true
   },
   "outputs": [
    {
     "name": "stdout",
     "output_type": "stream",
     "text": [
      "cv error: 8.069230769230769\n",
      "train error: 5.441025641025641\n"
     ]
    }
   ],
   "source": [
    "train_iq = X_iq_train.copy()\n",
    "train_iq['y'] = Y_iq_train\n",
    "test_iq = X_iq_test.copy()\n",
    "\n",
    "model = smf.glm(formula=formula,\n",
    "                data=train_iq,\n",
    "                family=sm.families.NegativeBinomial())\n",
    "results = model.fit()\n",
    "\n",
    "predictions_iq = results.predict(test_iq).astype(int)\n",
    "print (\"cv error:\", mean_absolute_error(predictions_iq, Y_iq_test))\n",
    "\n",
    "pred_train_iq = results.predict(train_iq).astype(int)\n",
    "print (\"train error:\", mean_absolute_error(pred_train_iq, Y_iq_train))"
   ]
  },
  {
   "cell_type": "markdown",
   "metadata": {},
   "source": [
    "#### single evaluation metric\n",
    "Now the combined score for both the cities"
   ]
  },
  {
   "cell_type": "code",
   "execution_count": 11,
   "metadata": {},
   "outputs": [
    {
     "name": "stdout",
     "output_type": "stream",
     "text": [
      "cv error: 17.412087912087912\n",
      "train error: 18.32234432234432\n"
     ]
    }
   ],
   "source": [
    "pred = predictions_iq.append(predictions_sj)\n",
    "true = Y_iq_test.append(Y_sj_test)\n",
    "print (\"cv error:\", mean_absolute_error(pred, true))\n",
    "\n",
    "train_pred = pred_train_iq.append(pred_train_sj)\n",
    "train_true = Y_iq_train.append(Y_sj_train)\n",
    "print (\"train error:\", mean_absolute_error(train_pred, train_true))"
   ]
  },
  {
   "cell_type": "markdown",
   "metadata": {},
   "source": [
    "#### Conclusion : \n",
    " - Negative Binomial is by far the best model we have come across\n",
    " - We had high expectations from Time shifting the data but it actually decreases the performance\n",
    " \n",
    "#### Next Steps :\n",
    "At the next stage we shall dive into some more advanced statistical models"
   ]
  }
 ],
 "metadata": {
  "kernelspec": {
   "display_name": "Python 3",
   "language": "python",
   "name": "python3"
  },
  "language_info": {
   "codemirror_mode": {
    "name": "ipython",
    "version": 3
   },
   "file_extension": ".py",
   "mimetype": "text/x-python",
   "name": "python",
   "nbconvert_exporter": "python",
   "pygments_lexer": "ipython3",
   "version": "3.6.4"
  }
 },
 "nbformat": 4,
 "nbformat_minor": 2
}
